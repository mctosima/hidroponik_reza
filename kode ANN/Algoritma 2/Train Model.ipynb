{
 "cells": [
  {
   "cell_type": "markdown",
   "metadata": {},
   "source": [
    "**Data Preprocessing**"
   ]
  },
  {
   "cell_type": "markdown",
   "metadata": {},
   "source": [
    "Import lib"
   ]
  },
  {
   "cell_type": "code",
   "execution_count": 2,
   "metadata": {},
   "outputs": [
    {
     "data": {
      "text/plain": [
       "'2.1.0'"
      ]
     },
     "execution_count": 2,
     "metadata": {},
     "output_type": "execute_result"
    }
   ],
   "source": [
    "import numpy as np\n",
    "import pandas as pd\n",
    "import tensorflow as tf\n",
    "\n",
    "tf.__version__"
   ]
  },
  {
   "cell_type": "markdown",
   "metadata": {},
   "source": [
    "Install keras"
   ]
  },
  {
   "cell_type": "code",
   "execution_count": 3,
   "metadata": {},
   "outputs": [],
   "source": [
    "# pip install keras"
   ]
  },
  {
   "cell_type": "markdown",
   "metadata": {},
   "source": [
    "import data dari csv file"
   ]
  },
  {
   "cell_type": "code",
   "execution_count": 4,
   "metadata": {},
   "outputs": [],
   "source": [
    "dataset = pd.read_csv('fix traininggggggg.csv')\n",
    "\n",
    "x = dataset.iloc[:, 1:5].values\n",
    "y = dataset.iloc[:, 6].values\n",
    "\n",
    "x2 = dataset.iloc[:, 0:6].values\n",
    "y2 = dataset.iloc[:, 7].values\n",
    "\n",
    "y_dumy=np.eye(4)[y]\n",
    "y2_dumy=np.eye(5)[y2]"
   ]
  },
  {
   "cell_type": "markdown",
   "metadata": {},
   "source": [
    "bikin dataset train dan test"
   ]
  },
  {
   "cell_type": "code",
   "execution_count": 7,
   "metadata": {},
   "outputs": [
    {
     "data": {
      "text/plain": [
       "array([[0., 0., 0., 1.],\n",
       "       [0., 0., 0., 1.],\n",
       "       [0., 0., 0., 1.],\n",
       "       ...,\n",
       "       [0., 1., 0., 0.],\n",
       "       [0., 1., 0., 0.],\n",
       "       [0., 1., 0., 0.]])"
      ]
     },
     "execution_count": 7,
     "metadata": {},
     "output_type": "execute_result"
    }
   ],
   "source": [
    "y_dumy"
   ]
  },
  {
   "cell_type": "code",
   "execution_count": 4,
   "metadata": {},
   "outputs": [],
   "source": [
    "from sklearn.model_selection import train_test_split\n",
    "\n",
    "x_train, x_test, y_train, y_test = train_test_split(x,y_dumy, test_size = 0.2, random_state = 0)\n",
    "x2_train, x2_test, y2_train, y2_test = train_test_split(x2,y2_dumy, test_size = 0.2, random_state = 0)"
   ]
  },
  {
   "cell_type": "markdown",
   "metadata": {},
   "source": [
    "Scaling"
   ]
  },
  {
   "cell_type": "code",
   "execution_count": 5,
   "metadata": {},
   "outputs": [],
   "source": [
    "from sklearn.preprocessing import StandardScaler\n",
    "\n",
    "sc = StandardScaler()\n",
    "x_train = sc.fit_transform(x_train)\n",
    "x_test = sc.transform(x_test)\n",
    "\n",
    "SC = StandardScaler()\n",
    "x2_train = SC.fit_transform(x2_train)\n",
    "x2_test = SC.transform(x2_test)"
   ]
  },
  {
   "cell_type": "markdown",
   "metadata": {},
   "source": [
    "**Machine Learn**"
   ]
  },
  {
   "cell_type": "markdown",
   "metadata": {},
   "source": [
    "**Inisiasi ML**"
   ]
  },
  {
   "cell_type": "markdown",
   "metadata": {},
   "source": [
    "inisiasi dengan sequensial class (tensorflow)"
   ]
  },
  {
   "cell_type": "code",
   "execution_count": 6,
   "metadata": {},
   "outputs": [],
   "source": [
    "ann = tf.keras.models.Sequential()\n",
    "ann2 = tf.keras.models.Sequential()"
   ]
  },
  {
   "cell_type": "markdown",
   "metadata": {},
   "source": [
    "add 32 neuron dengan relu"
   ]
  },
  {
   "cell_type": "code",
   "execution_count": 7,
   "metadata": {},
   "outputs": [],
   "source": [
    "ann.add(tf.keras.layers.Dense(units = 32, activation = 'relu'))\n",
    "ann2.add(tf.keras.layers.Dense(units = 32, activation = 'relu'))"
   ]
  },
  {
   "cell_type": "markdown",
   "metadata": {},
   "source": [
    "add 16 neuron dengan relu"
   ]
  },
  {
   "cell_type": "code",
   "execution_count": 8,
   "metadata": {},
   "outputs": [],
   "source": [
    "ann.add(tf.keras.layers.Dense(units = 16, activation = 'relu'))\n",
    "ann2.add(tf.keras.layers.Dense(units = 16, activation = 'relu'))"
   ]
  },
  {
   "cell_type": "markdown",
   "metadata": {},
   "source": [
    "add output layer"
   ]
  },
  {
   "cell_type": "code",
   "execution_count": 9,
   "metadata": {},
   "outputs": [],
   "source": [
    "ann.add(tf.keras.layers.Dense(units = 4, activation = 'sigmoid'))\n",
    "ann2.add(tf.keras.layers.Dense(units = 5, activation = 'sigmoid'))"
   ]
  },
  {
   "cell_type": "markdown",
   "metadata": {},
   "source": [
    "**Train ML**"
   ]
  },
  {
   "cell_type": "markdown",
   "metadata": {},
   "source": [
    "Compile pakai adam optimizer "
   ]
  },
  {
   "cell_type": "code",
   "execution_count": 10,
   "metadata": {},
   "outputs": [],
   "source": [
    "ann.compile(optimizer = 'adam', loss = 'binary_crossentropy', metrics = ['accuracy'])\n",
    "ann2.compile(optimizer = 'adam', loss = 'binary_crossentropy', metrics = ['accuracy'])"
   ]
  },
  {
   "cell_type": "markdown",
   "metadata": {},
   "source": [
    "training dengan 100 epoch"
   ]
  },
  {
   "cell_type": "code",
   "execution_count": 11,
   "metadata": {},
   "outputs": [
    {
     "name": "stdout",
     "output_type": "stream",
     "text": [
      "Train on 492 samples\n",
      "Epoch 1/100\n",
      "492/492 [==============================] - 1s 1ms/sample - loss: 0.7118 - accuracy: 0.4812\n",
      "Epoch 2/100\n",
      "492/492 [==============================] - 0s 54us/sample - loss: 0.6504 - accuracy: 0.6905\n",
      "Epoch 3/100\n",
      "492/492 [==============================] - 0s 48us/sample - loss: 0.6050 - accuracy: 0.7703\n",
      "Epoch 4/100\n",
      "492/492 [==============================] - 0s 52us/sample - loss: 0.5590 - accuracy: 0.8252\n",
      "Epoch 5/100\n",
      "492/492 [==============================] - 0s 52us/sample - loss: 0.5055 - accuracy: 0.8684\n",
      "Epoch 6/100\n",
      "492/492 [==============================] - 0s 56us/sample - loss: 0.4468 - accuracy: 0.8796\n",
      "Epoch 7/100\n",
      "492/492 [==============================] - 0s 60us/sample - loss: 0.3865 - accuracy: 0.8872\n",
      "Epoch 8/100\n",
      "492/492 [==============================] - 0s 58us/sample - loss: 0.3345 - accuracy: 0.8882\n",
      "Epoch 9/100\n",
      "492/492 [==============================] - 0s 58us/sample - loss: 0.2945 - accuracy: 0.8882\n",
      "Epoch 10/100\n",
      "492/492 [==============================] - 0s 52us/sample - loss: 0.2640 - accuracy: 0.8908\n",
      "Epoch 11/100\n",
      "492/492 [==============================] - 0s 54us/sample - loss: 0.2418 - accuracy: 0.8984\n",
      "Epoch 12/100\n",
      "492/492 [==============================] - 0s 61us/sample - loss: 0.2249 - accuracy: 0.9045\n",
      "Epoch 13/100\n",
      "492/492 [==============================] - 0s 61us/sample - loss: 0.2122 - accuracy: 0.9060\n",
      "Epoch 14/100\n",
      "492/492 [==============================] - 0s 54us/sample - loss: 0.2020 - accuracy: 0.9070\n",
      "Epoch 15/100\n",
      "492/492 [==============================] - 0s 44us/sample - loss: 0.1937 - accuracy: 0.9172\n",
      "Epoch 16/100\n",
      "492/492 [==============================] - 0s 46us/sample - loss: 0.1858 - accuracy: 0.9228\n",
      "Epoch 17/100\n",
      "492/492 [==============================] - 0s 46us/sample - loss: 0.1796 - accuracy: 0.9268\n",
      "Epoch 18/100\n",
      "492/492 [==============================] - 0s 50us/sample - loss: 0.1735 - accuracy: 0.9243\n",
      "Epoch 19/100\n",
      "492/492 [==============================] - 0s 60us/sample - loss: 0.1676 - accuracy: 0.9299\n",
      "Epoch 20/100\n",
      "492/492 [==============================] - 0s 46us/sample - loss: 0.1623 - accuracy: 0.9365\n",
      "Epoch 21/100\n",
      "492/492 [==============================] - 0s 50us/sample - loss: 0.1573 - accuracy: 0.9370\n",
      "Epoch 22/100\n",
      "492/492 [==============================] - 0s 44us/sample - loss: 0.1526 - accuracy: 0.9385\n",
      "Epoch 23/100\n",
      "492/492 [==============================] - 0s 54us/sample - loss: 0.1489 - accuracy: 0.9400\n",
      "Epoch 24/100\n",
      "492/492 [==============================] - 0s 45us/sample - loss: 0.1445 - accuracy: 0.9421\n",
      "Epoch 25/100\n",
      "492/492 [==============================] - 0s 44us/sample - loss: 0.1401 - accuracy: 0.9466\n",
      "Epoch 26/100\n",
      "492/492 [==============================] - 0s 48us/sample - loss: 0.1362 - accuracy: 0.9472\n",
      "Epoch 27/100\n",
      "492/492 [==============================] - 0s 44us/sample - loss: 0.1327 - accuracy: 0.9482\n",
      "Epoch 28/100\n",
      "492/492 [==============================] - 0s 43us/sample - loss: 0.1292 - accuracy: 0.9507\n",
      "Epoch 29/100\n",
      "492/492 [==============================] - 0s 48us/sample - loss: 0.1258 - accuracy: 0.9533\n",
      "Epoch 30/100\n",
      "492/492 [==============================] - 0s 46us/sample - loss: 0.1229 - accuracy: 0.9553\n",
      "Epoch 31/100\n",
      "492/492 [==============================] - 0s 44us/sample - loss: 0.1200 - accuracy: 0.9563\n",
      "Epoch 32/100\n",
      "492/492 [==============================] - 0s 51us/sample - loss: 0.1175 - accuracy: 0.9583\n",
      "Epoch 33/100\n",
      "492/492 [==============================] - 0s 48us/sample - loss: 0.1147 - accuracy: 0.9609\n",
      "Epoch 34/100\n",
      "492/492 [==============================] - 0s 54us/sample - loss: 0.1125 - accuracy: 0.9634\n",
      "Epoch 35/100\n",
      "492/492 [==============================] - 0s 52us/sample - loss: 0.1100 - accuracy: 0.9629\n",
      "Epoch 36/100\n",
      "492/492 [==============================] - 0s 50us/sample - loss: 0.1078 - accuracy: 0.9649\n",
      "Epoch 37/100\n",
      "492/492 [==============================] - 0s 50us/sample - loss: 0.1057 - accuracy: 0.9639\n",
      "Epoch 38/100\n",
      "492/492 [==============================] - 0s 50us/sample - loss: 0.1036 - accuracy: 0.9649\n",
      "Epoch 39/100\n",
      "492/492 [==============================] - 0s 69us/sample - loss: 0.1019 - accuracy: 0.9665\n",
      "Epoch 40/100\n",
      "492/492 [==============================] - 0s 46us/sample - loss: 0.0995 - accuracy: 0.9649\n",
      "Epoch 41/100\n",
      "492/492 [==============================] - 0s 52us/sample - loss: 0.0977 - accuracy: 0.9649\n",
      "Epoch 42/100\n",
      "492/492 [==============================] - 0s 48us/sample - loss: 0.0963 - accuracy: 0.9675\n",
      "Epoch 43/100\n",
      "492/492 [==============================] - 0s 48us/sample - loss: 0.0946 - accuracy: 0.9680\n",
      "Epoch 44/100\n",
      "492/492 [==============================] - 0s 50us/sample - loss: 0.0925 - accuracy: 0.9685\n",
      "Epoch 45/100\n",
      "492/492 [==============================] - 0s 50us/sample - loss: 0.0918 - accuracy: 0.9670\n",
      "Epoch 46/100\n",
      "492/492 [==============================] - 0s 48us/sample - loss: 0.0901 - accuracy: 0.9695\n",
      "Epoch 47/100\n",
      "492/492 [==============================] - 0s 52us/sample - loss: 0.0885 - accuracy: 0.9680\n",
      "Epoch 48/100\n",
      "492/492 [==============================] - 0s 52us/sample - loss: 0.0871 - accuracy: 0.9695\n",
      "Epoch 49/100\n",
      "492/492 [==============================] - 0s 60us/sample - loss: 0.0856 - accuracy: 0.9690\n",
      "Epoch 50/100\n",
      "492/492 [==============================] - 0s 48us/sample - loss: 0.0846 - accuracy: 0.9700\n",
      "Epoch 51/100\n",
      "492/492 [==============================] - 0s 58us/sample - loss: 0.0838 - accuracy: 0.9680\n",
      "Epoch 52/100\n",
      "492/492 [==============================] - 0s 50us/sample - loss: 0.0820 - accuracy: 0.9710\n",
      "Epoch 53/100\n",
      "492/492 [==============================] - 0s 52us/sample - loss: 0.0807 - accuracy: 0.9715\n",
      "Epoch 54/100\n",
      "492/492 [==============================] - 0s 54us/sample - loss: 0.0797 - accuracy: 0.9715\n",
      "Epoch 55/100\n",
      "492/492 [==============================] - 0s 60us/sample - loss: 0.0783 - accuracy: 0.9710\n",
      "Epoch 56/100\n",
      "492/492 [==============================] - 0s 52us/sample - loss: 0.0775 - accuracy: 0.9710\n",
      "Epoch 57/100\n",
      "492/492 [==============================] - 0s 48us/sample - loss: 0.0763 - accuracy: 0.9721\n",
      "Epoch 58/100\n",
      "492/492 [==============================] - 0s 61us/sample - loss: 0.0754 - accuracy: 0.9736\n",
      "Epoch 59/100\n",
      "492/492 [==============================] - 0s 44us/sample - loss: 0.0740 - accuracy: 0.9731\n",
      "Epoch 60/100\n",
      "492/492 [==============================] - 0s 48us/sample - loss: 0.0732 - accuracy: 0.9715\n",
      "Epoch 61/100\n",
      "492/492 [==============================] - 0s 48us/sample - loss: 0.0725 - accuracy: 0.9726\n",
      "Epoch 62/100\n",
      "492/492 [==============================] - 0s 46us/sample - loss: 0.0713 - accuracy: 0.9736\n",
      "Epoch 63/100\n",
      "492/492 [==============================] - 0s 46us/sample - loss: 0.0703 - accuracy: 0.9766\n",
      "Epoch 64/100\n",
      "492/492 [==============================] - 0s 44us/sample - loss: 0.0696 - accuracy: 0.9756\n",
      "Epoch 65/100\n",
      "492/492 [==============================] - 0s 48us/sample - loss: 0.0685 - accuracy: 0.9761\n",
      "Epoch 66/100\n",
      "492/492 [==============================] - 0s 48us/sample - loss: 0.0682 - accuracy: 0.9751\n",
      "Epoch 67/100\n",
      "492/492 [==============================] - 0s 40us/sample - loss: 0.0671 - accuracy: 0.9751\n",
      "Epoch 68/100\n",
      "492/492 [==============================] - 0s 52us/sample - loss: 0.0664 - accuracy: 0.9766\n",
      "Epoch 69/100\n",
      "492/492 [==============================] - 0s 44us/sample - loss: 0.0660 - accuracy: 0.9761\n",
      "Epoch 70/100\n",
      "492/492 [==============================] - 0s 58us/sample - loss: 0.0645 - accuracy: 0.9766\n",
      "Epoch 71/100\n",
      "492/492 [==============================] - 0s 46us/sample - loss: 0.0640 - accuracy: 0.9766\n",
      "Epoch 72/100\n",
      "492/492 [==============================] - 0s 46us/sample - loss: 0.0636 - accuracy: 0.9756\n",
      "Epoch 73/100\n",
      "492/492 [==============================] - 0s 48us/sample - loss: 0.0641 - accuracy: 0.9761\n",
      "Epoch 74/100\n",
      "492/492 [==============================] - 0s 50us/sample - loss: 0.0634 - accuracy: 0.9787\n",
      "Epoch 75/100\n",
      "492/492 [==============================] - 0s 44us/sample - loss: 0.0618 - accuracy: 0.9761\n",
      "Epoch 76/100\n",
      "492/492 [==============================] - 0s 44us/sample - loss: 0.0607 - accuracy: 0.9787\n",
      "Epoch 77/100\n",
      "492/492 [==============================] - 0s 44us/sample - loss: 0.0606 - accuracy: 0.9776\n",
      "Epoch 78/100\n",
      "492/492 [==============================] - 0s 56us/sample - loss: 0.0598 - accuracy: 0.9782\n",
      "Epoch 79/100\n",
      "492/492 [==============================] - 0s 54us/sample - loss: 0.0587 - accuracy: 0.9792\n",
      "Epoch 80/100\n",
      "492/492 [==============================] - 0s 46us/sample - loss: 0.0590 - accuracy: 0.9787\n",
      "Epoch 81/100\n",
      "492/492 [==============================] - 0s 42us/sample - loss: 0.0583 - accuracy: 0.9787\n",
      "Epoch 82/100\n",
      "492/492 [==============================] - 0s 46us/sample - loss: 0.0571 - accuracy: 0.9797\n",
      "Epoch 83/100\n",
      "492/492 [==============================] - 0s 42us/sample - loss: 0.0567 - accuracy: 0.9802\n",
      "Epoch 84/100\n",
      "492/492 [==============================] - 0s 46us/sample - loss: 0.0567 - accuracy: 0.9797\n",
      "Epoch 85/100\n",
      "492/492 [==============================] - 0s 44us/sample - loss: 0.0559 - accuracy: 0.9797\n",
      "Epoch 86/100\n",
      "492/492 [==============================] - 0s 42us/sample - loss: 0.0554 - accuracy: 0.9837\n",
      "Epoch 87/100\n",
      "492/492 [==============================] - 0s 46us/sample - loss: 0.0550 - accuracy: 0.9797\n",
      "Epoch 88/100\n",
      "492/492 [==============================] - 0s 46us/sample - loss: 0.0541 - accuracy: 0.9827\n",
      "Epoch 89/100\n",
      "492/492 [==============================] - 0s 50us/sample - loss: 0.0535 - accuracy: 0.9822\n",
      "Epoch 90/100\n",
      "492/492 [==============================] - 0s 55us/sample - loss: 0.0533 - accuracy: 0.9807\n",
      "Epoch 91/100\n",
      "492/492 [==============================] - 0s 54us/sample - loss: 0.0526 - accuracy: 0.9827\n",
      "Epoch 92/100\n",
      "492/492 [==============================] - 0s 56us/sample - loss: 0.0520 - accuracy: 0.9822\n",
      "Epoch 93/100\n",
      "492/492 [==============================] - 0s 52us/sample - loss: 0.0517 - accuracy: 0.9832\n",
      "Epoch 94/100\n",
      "492/492 [==============================] - 0s 50us/sample - loss: 0.0511 - accuracy: 0.9822\n",
      "Epoch 95/100\n",
      "492/492 [==============================] - 0s 54us/sample - loss: 0.0508 - accuracy: 0.9827\n",
      "Epoch 96/100\n",
      "492/492 [==============================] - 0s 49us/sample - loss: 0.0504 - accuracy: 0.9858\n",
      "Epoch 97/100\n",
      "492/492 [==============================] - 0s 60us/sample - loss: 0.0498 - accuracy: 0.9822\n",
      "Epoch 98/100\n",
      "492/492 [==============================] - 0s 75us/sample - loss: 0.0496 - accuracy: 0.9832\n",
      "Epoch 99/100\n",
      "492/492 [==============================] - 0s 52us/sample - loss: 0.0489 - accuracy: 0.9842\n",
      "Epoch 100/100\n",
      "492/492 [==============================] - 0s 44us/sample - loss: 0.0488 - accuracy: 0.9858\n"
     ]
    },
    {
     "data": {
      "text/plain": [
       "<tensorflow.python.keras.callbacks.History at 0x1b4a681bc48>"
      ]
     },
     "execution_count": 11,
     "metadata": {},
     "output_type": "execute_result"
    }
   ],
   "source": [
    "ann.fit(x_train, y_train, batch_size = 32, epochs = 100)"
   ]
  },
  {
   "cell_type": "code",
   "execution_count": 12,
   "metadata": {},
   "outputs": [
    {
     "name": "stdout",
     "output_type": "stream",
     "text": [
      "Train on 492 samples\n",
      "Epoch 1/100\n",
      "492/492 [==============================] - 1s 1ms/sample - loss: 0.7441 - accuracy: 0.4841\n",
      "Epoch 2/100\n",
      "492/492 [==============================] - 0s 56us/sample - loss: 0.6759 - accuracy: 0.6268\n",
      "Epoch 3/100\n",
      "492/492 [==============================] - 0s 56us/sample - loss: 0.6135 - accuracy: 0.7382\n",
      "Epoch 4/100\n",
      "492/492 [==============================] - 0s 58us/sample - loss: 0.5488 - accuracy: 0.8065\n",
      "Epoch 5/100\n",
      "492/492 [==============================] - 0s 60us/sample - loss: 0.4747 - accuracy: 0.8602\n",
      "Epoch 6/100\n",
      "492/492 [==============================] - 0s 58us/sample - loss: 0.4002 - accuracy: 0.8886\n",
      "Epoch 7/100\n",
      "492/492 [==============================] - 0s 48us/sample - loss: 0.3397 - accuracy: 0.8972\n",
      "Epoch 8/100\n",
      "492/492 [==============================] - 0s 44us/sample - loss: 0.2971 - accuracy: 0.8976\n",
      "Epoch 9/100\n",
      "492/492 [==============================] - 0s 52us/sample - loss: 0.2717 - accuracy: 0.8972\n",
      "Epoch 10/100\n",
      "492/492 [==============================] - 0s 58us/sample - loss: 0.2568 - accuracy: 0.8972\n",
      "Epoch 11/100\n",
      "492/492 [==============================] - 0s 50us/sample - loss: 0.2467 - accuracy: 0.8976\n",
      "Epoch 12/100\n",
      "492/492 [==============================] - 0s 58us/sample - loss: 0.2387 - accuracy: 0.8984\n",
      "Epoch 13/100\n",
      "492/492 [==============================] - 0s 60us/sample - loss: 0.2319 - accuracy: 0.9016\n",
      "Epoch 14/100\n",
      "492/492 [==============================] - 0s 52us/sample - loss: 0.2257 - accuracy: 0.9037\n",
      "Epoch 15/100\n",
      "492/492 [==============================] - 0s 52us/sample - loss: 0.2197 - accuracy: 0.9057\n",
      "Epoch 16/100\n",
      "492/492 [==============================] - 0s 50us/sample - loss: 0.2141 - accuracy: 0.9065\n",
      "Epoch 17/100\n",
      "492/492 [==============================] - 0s 44us/sample - loss: 0.2089 - accuracy: 0.9081\n",
      "Epoch 18/100\n",
      "492/492 [==============================] - 0s 48us/sample - loss: 0.2038 - accuracy: 0.9093\n",
      "Epoch 19/100\n",
      "492/492 [==============================] - 0s 46us/sample - loss: 0.1990 - accuracy: 0.9134\n",
      "Epoch 20/100\n",
      "492/492 [==============================] - 0s 49us/sample - loss: 0.1940 - accuracy: 0.9138\n",
      "Epoch 21/100\n",
      "492/492 [==============================] - 0s 54us/sample - loss: 0.1890 - accuracy: 0.9154\n",
      "Epoch 22/100\n",
      "492/492 [==============================] - 0s 50us/sample - loss: 0.1843 - accuracy: 0.9207\n",
      "Epoch 23/100\n",
      "492/492 [==============================] - 0s 52us/sample - loss: 0.1799 - accuracy: 0.9228\n",
      "Epoch 24/100\n",
      "492/492 [==============================] - 0s 57us/sample - loss: 0.1751 - accuracy: 0.9232\n",
      "Epoch 25/100\n",
      "492/492 [==============================] - 0s 48us/sample - loss: 0.1709 - accuracy: 0.9248\n",
      "Epoch 26/100\n",
      "492/492 [==============================] - 0s 46us/sample - loss: 0.1665 - accuracy: 0.9252\n",
      "Epoch 27/100\n",
      "492/492 [==============================] - 0s 50us/sample - loss: 0.1625 - accuracy: 0.9260\n",
      "Epoch 28/100\n",
      "492/492 [==============================] - 0s 62us/sample - loss: 0.1589 - accuracy: 0.9280\n",
      "Epoch 29/100\n",
      "492/492 [==============================] - 0s 60us/sample - loss: 0.1554 - accuracy: 0.9272\n",
      "Epoch 30/100\n",
      "492/492 [==============================] - 0s 48us/sample - loss: 0.1514 - accuracy: 0.9293\n",
      "Epoch 31/100\n",
      "492/492 [==============================] - 0s 44us/sample - loss: 0.1478 - accuracy: 0.9317\n",
      "Epoch 32/100\n",
      "492/492 [==============================] - 0s 48us/sample - loss: 0.1446 - accuracy: 0.9333\n",
      "Epoch 33/100\n",
      "492/492 [==============================] - 0s 44us/sample - loss: 0.1413 - accuracy: 0.9337\n",
      "Epoch 34/100\n",
      "492/492 [==============================] - 0s 52us/sample - loss: 0.1378 - accuracy: 0.9346\n",
      "Epoch 35/100\n",
      "492/492 [==============================] - 0s 48us/sample - loss: 0.1345 - accuracy: 0.9374\n",
      "Epoch 36/100\n",
      "492/492 [==============================] - 0s 49us/sample - loss: 0.1312 - accuracy: 0.9382\n",
      "Epoch 37/100\n",
      "492/492 [==============================] - 0s 44us/sample - loss: 0.1278 - accuracy: 0.9411\n",
      "Epoch 38/100\n",
      "492/492 [==============================] - 0s 44us/sample - loss: 0.1246 - accuracy: 0.9415\n",
      "Epoch 39/100\n",
      "492/492 [==============================] - 0s 48us/sample - loss: 0.1216 - accuracy: 0.9439\n",
      "Epoch 40/100\n",
      "492/492 [==============================] - 0s 43us/sample - loss: 0.1185 - accuracy: 0.9447\n",
      "Epoch 41/100\n",
      "492/492 [==============================] - 0s 46us/sample - loss: 0.1157 - accuracy: 0.9484\n",
      "Epoch 42/100\n",
      "492/492 [==============================] - 0s 46us/sample - loss: 0.1128 - accuracy: 0.9524\n",
      "Epoch 43/100\n",
      "492/492 [==============================] - 0s 40us/sample - loss: 0.1101 - accuracy: 0.9528\n",
      "Epoch 44/100\n",
      "492/492 [==============================] - 0s 50us/sample - loss: 0.1080 - accuracy: 0.9565\n",
      "Epoch 45/100\n",
      "492/492 [==============================] - 0s 44us/sample - loss: 0.1049 - accuracy: 0.9577\n",
      "Epoch 46/100\n",
      "492/492 [==============================] - 0s 48us/sample - loss: 0.1026 - accuracy: 0.9581\n",
      "Epoch 47/100\n",
      "492/492 [==============================] - 0s 52us/sample - loss: 0.1001 - accuracy: 0.9593\n",
      "Epoch 48/100\n",
      "492/492 [==============================] - 0s 59us/sample - loss: 0.0976 - accuracy: 0.9622\n",
      "Epoch 49/100\n",
      "492/492 [==============================] - 0s 73us/sample - loss: 0.0953 - accuracy: 0.9622\n",
      "Epoch 50/100\n",
      "492/492 [==============================] - 0s 54us/sample - loss: 0.0934 - accuracy: 0.9622\n",
      "Epoch 51/100\n",
      "492/492 [==============================] - 0s 44us/sample - loss: 0.0913 - accuracy: 0.9642\n",
      "Epoch 52/100\n",
      "492/492 [==============================] - 0s 50us/sample - loss: 0.0888 - accuracy: 0.9642\n",
      "Epoch 53/100\n",
      "492/492 [==============================] - 0s 48us/sample - loss: 0.0870 - accuracy: 0.9671\n",
      "Epoch 54/100\n",
      "492/492 [==============================] - 0s 61us/sample - loss: 0.0849 - accuracy: 0.9683\n",
      "Epoch 55/100\n",
      "492/492 [==============================] - 0s 54us/sample - loss: 0.0833 - accuracy: 0.9695\n",
      "Epoch 56/100\n",
      "492/492 [==============================] - 0s 48us/sample - loss: 0.0814 - accuracy: 0.9707\n",
      "Epoch 57/100\n",
      "492/492 [==============================] - 0s 46us/sample - loss: 0.0791 - accuracy: 0.9715\n",
      "Epoch 58/100\n",
      "492/492 [==============================] - 0s 46us/sample - loss: 0.0777 - accuracy: 0.9736\n",
      "Epoch 59/100\n",
      "492/492 [==============================] - 0s 46us/sample - loss: 0.0758 - accuracy: 0.9736\n",
      "Epoch 60/100\n",
      "492/492 [==============================] - 0s 44us/sample - loss: 0.0741 - accuracy: 0.9748\n",
      "Epoch 61/100\n",
      "492/492 [==============================] - 0s 46us/sample - loss: 0.0726 - accuracy: 0.9768\n",
      "Epoch 62/100\n",
      "492/492 [==============================] - 0s 46us/sample - loss: 0.0709 - accuracy: 0.9780\n",
      "Epoch 63/100\n",
      "492/492 [==============================] - 0s 46us/sample - loss: 0.0693 - accuracy: 0.9776\n",
      "Epoch 64/100\n",
      "492/492 [==============================] - 0s 46us/sample - loss: 0.0677 - accuracy: 0.9789\n",
      "Epoch 65/100\n",
      "492/492 [==============================] - 0s 48us/sample - loss: 0.0663 - accuracy: 0.9801\n",
      "Epoch 66/100\n",
      "492/492 [==============================] - 0s 44us/sample - loss: 0.0649 - accuracy: 0.9809\n",
      "Epoch 67/100\n",
      "492/492 [==============================] - 0s 46us/sample - loss: 0.0635 - accuracy: 0.9809\n",
      "Epoch 68/100\n",
      "492/492 [==============================] - 0s 46us/sample - loss: 0.0623 - accuracy: 0.9817\n",
      "Epoch 69/100\n",
      "492/492 [==============================] - 0s 65us/sample - loss: 0.0607 - accuracy: 0.9821\n",
      "Epoch 70/100\n",
      "492/492 [==============================] - 0s 44us/sample - loss: 0.0598 - accuracy: 0.9821\n",
      "Epoch 71/100\n",
      "492/492 [==============================] - 0s 42us/sample - loss: 0.0583 - accuracy: 0.9829\n",
      "Epoch 72/100\n",
      "492/492 [==============================] - 0s 52us/sample - loss: 0.0574 - accuracy: 0.9833\n",
      "Epoch 73/100\n",
      "492/492 [==============================] - 0s 50us/sample - loss: 0.0561 - accuracy: 0.9829\n",
      "Epoch 74/100\n",
      "492/492 [==============================] - 0s 48us/sample - loss: 0.0549 - accuracy: 0.9837\n",
      "Epoch 75/100\n",
      "492/492 [==============================] - 0s 54us/sample - loss: 0.0538 - accuracy: 0.9837\n",
      "Epoch 76/100\n",
      "492/492 [==============================] - 0s 48us/sample - loss: 0.0526 - accuracy: 0.9841\n",
      "Epoch 77/100\n",
      "492/492 [==============================] - 0s 44us/sample - loss: 0.0514 - accuracy: 0.9846\n",
      "Epoch 78/100\n",
      "492/492 [==============================] - 0s 50us/sample - loss: 0.0508 - accuracy: 0.9866\n",
      "Epoch 79/100\n",
      "492/492 [==============================] - 0s 50us/sample - loss: 0.0495 - accuracy: 0.9854\n",
      "Epoch 80/100\n",
      "492/492 [==============================] - 0s 48us/sample - loss: 0.0488 - accuracy: 0.9874\n",
      "Epoch 81/100\n",
      "492/492 [==============================] - 0s 44us/sample - loss: 0.0477 - accuracy: 0.9874\n",
      "Epoch 82/100\n",
      "492/492 [==============================] - 0s 48us/sample - loss: 0.0467 - accuracy: 0.9890\n",
      "Epoch 83/100\n",
      "492/492 [==============================] - 0s 46us/sample - loss: 0.0461 - accuracy: 0.9894\n",
      "Epoch 84/100\n",
      "492/492 [==============================] - 0s 52us/sample - loss: 0.0448 - accuracy: 0.9902\n",
      "Epoch 85/100\n",
      "492/492 [==============================] - 0s 44us/sample - loss: 0.0442 - accuracy: 0.9923\n",
      "Epoch 86/100\n",
      "492/492 [==============================] - 0s 48us/sample - loss: 0.0430 - accuracy: 0.9927\n",
      "Epoch 87/100\n",
      "492/492 [==============================] - 0s 44us/sample - loss: 0.0427 - accuracy: 0.9919\n",
      "Epoch 88/100\n",
      "492/492 [==============================] - 0s 46us/sample - loss: 0.0418 - accuracy: 0.9935\n",
      "Epoch 89/100\n",
      "492/492 [==============================] - 0s 58us/sample - loss: 0.0408 - accuracy: 0.9927\n",
      "Epoch 90/100\n",
      "492/492 [==============================] - 0s 50us/sample - loss: 0.0401 - accuracy: 0.9935\n",
      "Epoch 91/100\n",
      "492/492 [==============================] - 0s 57us/sample - loss: 0.0392 - accuracy: 0.9939\n",
      "Epoch 92/100\n",
      "492/492 [==============================] - 0s 52us/sample - loss: 0.0386 - accuracy: 0.9935\n",
      "Epoch 93/100\n",
      "492/492 [==============================] - 0s 56us/sample - loss: 0.0380 - accuracy: 0.9931\n",
      "Epoch 94/100\n",
      "492/492 [==============================] - 0s 50us/sample - loss: 0.0374 - accuracy: 0.9939\n",
      "Epoch 95/100\n",
      "492/492 [==============================] - 0s 48us/sample - loss: 0.0368 - accuracy: 0.9943\n",
      "Epoch 96/100\n",
      "492/492 [==============================] - 0s 46us/sample - loss: 0.0362 - accuracy: 0.9947\n",
      "Epoch 97/100\n",
      "492/492 [==============================] - 0s 58us/sample - loss: 0.0352 - accuracy: 0.9951\n",
      "Epoch 98/100\n",
      "492/492 [==============================] - 0s 54us/sample - loss: 0.0349 - accuracy: 0.9943\n",
      "Epoch 99/100\n",
      "492/492 [==============================] - 0s 48us/sample - loss: 0.0343 - accuracy: 0.9943\n",
      "Epoch 100/100\n",
      "492/492 [==============================] - 0s 46us/sample - loss: 0.0337 - accuracy: 0.9947\n"
     ]
    },
    {
     "data": {
      "text/plain": [
       "<tensorflow.python.keras.callbacks.History at 0x1b4a67ebfc8>"
      ]
     },
     "execution_count": 12,
     "metadata": {},
     "output_type": "execute_result"
    }
   ],
   "source": [
    "ann2.fit(x2_train, y2_train, batch_size = 32, epochs = 100)"
   ]
  },
  {
   "cell_type": "markdown",
   "metadata": {},
   "source": [
    "Summary ML "
   ]
  },
  {
   "cell_type": "code",
   "execution_count": 13,
   "metadata": {},
   "outputs": [
    {
     "name": "stdout",
     "output_type": "stream",
     "text": [
      "Model: \"sequential\"\n",
      "_________________________________________________________________\n",
      "Layer (type)                 Output Shape              Param #   \n",
      "=================================================================\n",
      "dense (Dense)                multiple                  160       \n",
      "_________________________________________________________________\n",
      "dense_2 (Dense)              multiple                  528       \n",
      "_________________________________________________________________\n",
      "dense_4 (Dense)              multiple                  68        \n",
      "=================================================================\n",
      "Total params: 756\n",
      "Trainable params: 756\n",
      "Non-trainable params: 0\n",
      "_________________________________________________________________\n",
      "None\n"
     ]
    }
   ],
   "source": [
    "print(ann.summary())"
   ]
  },
  {
   "cell_type": "code",
   "execution_count": 14,
   "metadata": {},
   "outputs": [
    {
     "name": "stdout",
     "output_type": "stream",
     "text": [
      "Model: \"sequential_1\"\n",
      "_________________________________________________________________\n",
      "Layer (type)                 Output Shape              Param #   \n",
      "=================================================================\n",
      "dense_1 (Dense)              multiple                  224       \n",
      "_________________________________________________________________\n",
      "dense_3 (Dense)              multiple                  528       \n",
      "_________________________________________________________________\n",
      "dense_5 (Dense)              multiple                  85        \n",
      "=================================================================\n",
      "Total params: 837\n",
      "Trainable params: 837\n",
      "Non-trainable params: 0\n",
      "_________________________________________________________________\n",
      "None\n"
     ]
    }
   ],
   "source": [
    "print(ann2.summary())"
   ]
  },
  {
   "cell_type": "markdown",
   "metadata": {},
   "source": [
    "EXPORT  MODEL"
   ]
  },
  {
   "cell_type": "code",
   "execution_count": 15,
   "metadata": {},
   "outputs": [
    {
     "name": "stdout",
     "output_type": "stream",
     "text": [
      "WARNING:tensorflow:From C:\\Users\\GOCCHAN\\Anaconda3\\lib\\site-packages\\tensorflow_core\\python\\ops\\resource_variable_ops.py:1786: calling BaseResourceVariable.__init__ (from tensorflow.python.ops.resource_variable_ops) with constraint is deprecated and will be removed in a future version.\n",
      "Instructions for updating:\n",
      "If using Keras pass *_constraint arguments to layers.\n",
      "INFO:tensorflow:Assets written to: ann\\assets\n",
      "INFO:tensorflow:Assets written to: ann2\\assets\n"
     ]
    }
   ],
   "source": [
    "ann.save(\"ann\")\n",
    "ann2.save(\"ann2\")"
   ]
  },
  {
   "cell_type": "code",
   "execution_count": 16,
   "metadata": {},
   "outputs": [
    {
     "name": "stderr",
     "output_type": "stream",
     "text": [
      "C:\\Users\\GOCCHAN\\Anaconda3\\lib\\site-packages\\sklearn\\externals\\joblib\\__init__.py:15: DeprecationWarning: sklearn.externals.joblib is deprecated in 0.21 and will be removed in 0.23. Please import this functionality directly from joblib, which can be installed with: pip install joblib. If this warning is raised when loading pickled models, you may need to re-serialize those models with scikit-learn 0.21+.\n",
      "  warnings.warn(msg, category=DeprecationWarning)\n"
     ]
    },
    {
     "data": {
      "text/plain": [
       "['std_scaler.bin']"
      ]
     },
     "execution_count": 16,
     "metadata": {},
     "output_type": "execute_result"
    }
   ],
   "source": [
    "from sklearn.externals.joblib import dump, load\n",
    "dump(sc, 'std_scaler.bin', compress=True)"
   ]
  },
  {
   "cell_type": "code",
   "execution_count": 17,
   "metadata": {},
   "outputs": [
    {
     "data": {
      "text/plain": [
       "['std_scaler2.bin']"
      ]
     },
     "execution_count": 17,
     "metadata": {},
     "output_type": "execute_result"
    }
   ],
   "source": [
    "dump(SC, 'std_scaler2.bin', compress=True)"
   ]
  }
 ],
 "metadata": {
  "kernelspec": {
   "display_name": "Python 3",
   "language": "python",
   "name": "python3"
  },
  "language_info": {
   "codemirror_mode": {
    "name": "ipython",
    "version": 3
   },
   "file_extension": ".py",
   "mimetype": "text/x-python",
   "name": "python",
   "nbconvert_exporter": "python",
   "pygments_lexer": "ipython3",
   "version": "3.7.4"
  }
 },
 "nbformat": 4,
 "nbformat_minor": 2
}

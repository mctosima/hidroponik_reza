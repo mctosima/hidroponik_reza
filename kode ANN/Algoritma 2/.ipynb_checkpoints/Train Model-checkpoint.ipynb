{
 "cells": [
  {
   "cell_type": "markdown",
   "metadata": {},
   "source": [
    "**Data Preprocessing**"
   ]
  },
  {
   "cell_type": "markdown",
   "metadata": {},
   "source": [
    "Import lib"
   ]
  },
  {
   "cell_type": "code",
   "execution_count": 1,
   "metadata": {},
   "outputs": [
    {
     "data": {
      "text/plain": [
       "'2.1.0'"
      ]
     },
     "execution_count": 1,
     "metadata": {},
     "output_type": "execute_result"
    }
   ],
   "source": [
    "import numpy as np\n",
    "import pandas as pd\n",
    "import tensorflow as tf\n",
    "\n",
    "tf.__version__"
   ]
  },
  {
   "cell_type": "markdown",
   "metadata": {},
   "source": [
    "Install keras"
   ]
  },
  {
   "cell_type": "code",
   "execution_count": 2,
   "metadata": {},
   "outputs": [
    {
     "name": "stdout",
     "output_type": "stream",
     "text": [
      "Requirement already satisfied: keras in c:\\users\\gocchan\\anaconda3\\lib\\site-packages (2.4.3)\n",
      "Requirement already satisfied: h5py in c:\\users\\gocchan\\anaconda3\\lib\\site-packages (from keras) (2.9.0)\n",
      "Requirement already satisfied: numpy>=1.9.1 in c:\\users\\gocchan\\anaconda3\\lib\\site-packages (from keras) (1.16.5)\n",
      "Requirement already satisfied: scipy>=0.14 in c:\\users\\gocchan\\anaconda3\\lib\\site-packages (from keras) (1.3.1)\n",
      "Requirement already satisfied: pyyaml in c:\\users\\gocchan\\anaconda3\\lib\\site-packages (from keras) (5.1.2)\n",
      "Requirement already satisfied: six in c:\\users\\gocchan\\anaconda3\\lib\\site-packages (from h5py->keras) (1.12.0)\n",
      "Note: you may need to restart the kernel to use updated packages.\n"
     ]
    }
   ],
   "source": [
    "pip install keras"
   ]
  },
  {
   "cell_type": "markdown",
   "metadata": {},
   "source": [
    "import data dari csv file"
   ]
  },
  {
   "cell_type": "code",
   "execution_count": 3,
   "metadata": {},
   "outputs": [],
   "source": [
    "dataset = pd.read_csv('fix traininggggggg.csv')\n",
    "\n",
    "x = dataset.iloc[:, 1:5].values\n",
    "y = dataset.iloc[:, 6].values\n",
    "\n",
    "x2 = dataset.iloc[:, 0:6].values\n",
    "y2 = dataset.iloc[:, 7].values\n",
    "\n",
    "y_dumy=np.eye(4)[y]\n",
    "y2_dumy=np.eye(5)[y2]"
   ]
  },
  {
   "cell_type": "markdown",
   "metadata": {},
   "source": [
    "bikin dataset train dan test"
   ]
  },
  {
   "cell_type": "code",
   "execution_count": 4,
   "metadata": {},
   "outputs": [],
   "source": [
    "from sklearn.model_selection import train_test_split\n",
    "\n",
    "x_train, x_test, y_train, y_test = train_test_split(x,y_dumy, test_size = 0.2, random_state = 0)\n",
    "x2_train, x2_test, y2_train, y2_test = train_test_split(x2,y2_dumy, test_size = 0.2, random_state = 0)"
   ]
  },
  {
   "cell_type": "markdown",
   "metadata": {},
   "source": [
    "Scaling"
   ]
  },
  {
   "cell_type": "code",
   "execution_count": 5,
   "metadata": {},
   "outputs": [],
   "source": [
    "from sklearn.preprocessing import StandardScaler\n",
    "\n",
    "sc = StandardScaler()\n",
    "x_train = sc.fit_transform(x_train)\n",
    "x_test = sc.transform(x_test)\n",
    "\n",
    "SC = StandardScaler()\n",
    "x2_train = SC.fit_transform(x2_train)\n",
    "x2_test = SC.transform(x2_test)"
   ]
  },
  {
   "cell_type": "markdown",
   "metadata": {},
   "source": [
    "**Machine Learn**"
   ]
  },
  {
   "cell_type": "markdown",
   "metadata": {},
   "source": [
    "**Inisiasi ML**"
   ]
  },
  {
   "cell_type": "markdown",
   "metadata": {},
   "source": [
    "inisiasi dengan sequensial class (tensorflow)"
   ]
  },
  {
   "cell_type": "code",
   "execution_count": 6,
   "metadata": {},
   "outputs": [],
   "source": [
    "ann = tf.keras.models.Sequential()\n",
    "ann2 = tf.keras.models.Sequential()"
   ]
  },
  {
   "cell_type": "markdown",
   "metadata": {},
   "source": [
    "add 32 neuron dengan relu"
   ]
  },
  {
   "cell_type": "code",
   "execution_count": 7,
   "metadata": {},
   "outputs": [],
   "source": [
    "ann.add(tf.keras.layers.Dense(units = 32, activation = 'relu'))\n",
    "ann2.add(tf.keras.layers.Dense(units = 32, activation = 'relu'))"
   ]
  },
  {
   "cell_type": "markdown",
   "metadata": {},
   "source": [
    "add 16 neuron dengan relu"
   ]
  },
  {
   "cell_type": "code",
   "execution_count": 8,
   "metadata": {},
   "outputs": [],
   "source": [
    "ann.add(tf.keras.layers.Dense(units = 16, activation = 'relu'))\n",
    "ann2.add(tf.keras.layers.Dense(units = 16, activation = 'relu'))"
   ]
  },
  {
   "cell_type": "markdown",
   "metadata": {},
   "source": [
    "add output layer"
   ]
  },
  {
   "cell_type": "code",
   "execution_count": 9,
   "metadata": {},
   "outputs": [],
   "source": [
    "ann.add(tf.keras.layers.Dense(units = 4, activation = 'sigmoid'))\n",
    "ann2.add(tf.keras.layers.Dense(units = 5, activation = 'sigmoid'))"
   ]
  },
  {
   "cell_type": "markdown",
   "metadata": {},
   "source": [
    "**Train ML**"
   ]
  },
  {
   "cell_type": "markdown",
   "metadata": {},
   "source": [
    "Compile pakai adam optimizer "
   ]
  },
  {
   "cell_type": "code",
   "execution_count": 10,
   "metadata": {},
   "outputs": [],
   "source": [
    "ann.compile(optimizer = 'adam', loss = 'binary_crossentropy', metrics = ['accuracy'])\n",
    "ann2.compile(optimizer = 'adam', loss = 'binary_crossentropy', metrics = ['accuracy'])"
   ]
  },
  {
   "cell_type": "markdown",
   "metadata": {},
   "source": [
    "training dengan 100 epoch"
   ]
  },
  {
   "cell_type": "code",
   "execution_count": 11,
   "metadata": {},
   "outputs": [
    {
     "name": "stdout",
     "output_type": "stream",
     "text": [
      "Train on 492 samples\n",
      "Epoch 1/100\n",
      "492/492 [==============================] - 1s 1ms/sample - loss: 0.7461 - accuracy: 0.5005\n",
      "Epoch 2/100\n",
      "492/492 [==============================] - 0s 56us/sample - loss: 0.6654 - accuracy: 0.6006\n",
      "Epoch 3/100\n",
      "492/492 [==============================] - 0s 57us/sample - loss: 0.5951 - accuracy: 0.7210\n",
      "Epoch 4/100\n",
      "492/492 [==============================] - 0s 54us/sample - loss: 0.5255 - accuracy: 0.8283\n",
      "Epoch 5/100\n",
      "492/492 [==============================] - 0s 54us/sample - loss: 0.4548 - accuracy: 0.8933\n",
      "Epoch 6/100\n",
      "492/492 [==============================] - 0s 48us/sample - loss: 0.3876 - accuracy: 0.9065\n",
      "Epoch 7/100\n",
      "492/492 [==============================] - 0s 52us/sample - loss: 0.3293 - accuracy: 0.8999\n",
      "Epoch 8/100\n",
      "492/492 [==============================] - 0s 52us/sample - loss: 0.2852 - accuracy: 0.8989\n",
      "Epoch 9/100\n",
      "492/492 [==============================] - 0s 50us/sample - loss: 0.2551 - accuracy: 0.8974\n",
      "Epoch 10/100\n",
      "492/492 [==============================] - 0s 54us/sample - loss: 0.2349 - accuracy: 0.9035\n",
      "Epoch 11/100\n",
      "492/492 [==============================] - 0s 51us/sample - loss: 0.2213 - accuracy: 0.9050\n",
      "Epoch 12/100\n",
      "492/492 [==============================] - 0s 60us/sample - loss: 0.2112 - accuracy: 0.9055\n",
      "Epoch 13/100\n",
      "492/492 [==============================] - 0s 56us/sample - loss: 0.2031 - accuracy: 0.9090\n",
      "Epoch 14/100\n",
      "492/492 [==============================] - 0s 75us/sample - loss: 0.1956 - accuracy: 0.9101\n",
      "Epoch 15/100\n",
      "492/492 [==============================] - 0s 60us/sample - loss: 0.1892 - accuracy: 0.9116\n",
      "Epoch 16/100\n",
      "492/492 [==============================] - 0s 63us/sample - loss: 0.1830 - accuracy: 0.9157\n",
      "Epoch 17/100\n",
      "492/492 [==============================] - 0s 63us/sample - loss: 0.1781 - accuracy: 0.9233\n",
      "Epoch 18/100\n",
      "492/492 [==============================] - 0s 65us/sample - loss: 0.1722 - accuracy: 0.9268\n",
      "Epoch 19/100\n",
      "492/492 [==============================] - 0s 60us/sample - loss: 0.1671 - accuracy: 0.9299\n",
      "Epoch 20/100\n",
      "492/492 [==============================] - 0s 62us/sample - loss: 0.1626 - accuracy: 0.9299\n",
      "Epoch 21/100\n",
      "492/492 [==============================] - 0s 65us/sample - loss: 0.1574 - accuracy: 0.9339\n",
      "Epoch 22/100\n",
      "492/492 [==============================] - 0s 50us/sample - loss: 0.1533 - accuracy: 0.9350\n",
      "Epoch 23/100\n",
      "492/492 [==============================] - 0s 46us/sample - loss: 0.1489 - accuracy: 0.9395\n",
      "Epoch 24/100\n",
      "492/492 [==============================] - 0s 46us/sample - loss: 0.1452 - accuracy: 0.9421\n",
      "Epoch 25/100\n",
      "492/492 [==============================] - 0s 47us/sample - loss: 0.1410 - accuracy: 0.9456\n",
      "Epoch 26/100\n",
      "492/492 [==============================] - 0s 48us/sample - loss: 0.1376 - accuracy: 0.9492\n",
      "Epoch 27/100\n",
      "492/492 [==============================] - 0s 58us/sample - loss: 0.1341 - accuracy: 0.9487\n",
      "Epoch 28/100\n",
      "492/492 [==============================] - 0s 51us/sample - loss: 0.1308 - accuracy: 0.9492\n",
      "Epoch 29/100\n",
      "492/492 [==============================] - 0s 54us/sample - loss: 0.1275 - accuracy: 0.9507\n",
      "Epoch 30/100\n",
      "492/492 [==============================] - 0s 52us/sample - loss: 0.1245 - accuracy: 0.9527\n",
      "Epoch 31/100\n",
      "492/492 [==============================] - 0s 52us/sample - loss: 0.1216 - accuracy: 0.9538\n",
      "Epoch 32/100\n",
      "492/492 [==============================] - 0s 75us/sample - loss: 0.1185 - accuracy: 0.9563\n",
      "Epoch 33/100\n",
      "492/492 [==============================] - 0s 61us/sample - loss: 0.1160 - accuracy: 0.9558\n",
      "Epoch 34/100\n",
      "492/492 [==============================] - 0s 54us/sample - loss: 0.1135 - accuracy: 0.9563\n",
      "Epoch 35/100\n",
      "492/492 [==============================] - 0s 52us/sample - loss: 0.1111 - accuracy: 0.9593\n",
      "Epoch 36/100\n",
      "492/492 [==============================] - 0s 52us/sample - loss: 0.1090 - accuracy: 0.9614\n",
      "Epoch 37/100\n",
      "492/492 [==============================] - 0s 59us/sample - loss: 0.1066 - accuracy: 0.9619\n",
      "Epoch 38/100\n",
      "492/492 [==============================] - 0s 65us/sample - loss: 0.1047 - accuracy: 0.9614\n",
      "Epoch 39/100\n",
      "492/492 [==============================] - 0s 55us/sample - loss: 0.1027 - accuracy: 0.9619\n",
      "Epoch 40/100\n",
      "492/492 [==============================] - 0s 48us/sample - loss: 0.1008 - accuracy: 0.9619\n",
      "Epoch 41/100\n",
      "492/492 [==============================] - 0s 44us/sample - loss: 0.0987 - accuracy: 0.9639\n",
      "Epoch 42/100\n",
      "492/492 [==============================] - 0s 46us/sample - loss: 0.0970 - accuracy: 0.9629\n",
      "Epoch 43/100\n",
      "492/492 [==============================] - 0s 50us/sample - loss: 0.0962 - accuracy: 0.9624\n",
      "Epoch 44/100\n",
      "492/492 [==============================] - 0s 46us/sample - loss: 0.0937 - accuracy: 0.9629\n",
      "Epoch 45/100\n",
      "492/492 [==============================] - 0s 44us/sample - loss: 0.0927 - accuracy: 0.9634\n",
      "Epoch 46/100\n",
      "492/492 [==============================] - 0s 48us/sample - loss: 0.0908 - accuracy: 0.9639\n",
      "Epoch 47/100\n",
      "492/492 [==============================] - 0s 46us/sample - loss: 0.0906 - accuracy: 0.9649\n",
      "Epoch 48/100\n",
      "492/492 [==============================] - 0s 46us/sample - loss: 0.0878 - accuracy: 0.9649\n",
      "Epoch 49/100\n",
      "492/492 [==============================] - 0s 42us/sample - loss: 0.0873 - accuracy: 0.9649\n",
      "Epoch 50/100\n",
      "492/492 [==============================] - 0s 50us/sample - loss: 0.0866 - accuracy: 0.9654\n",
      "Epoch 51/100\n",
      "492/492 [==============================] - 0s 58us/sample - loss: 0.0845 - accuracy: 0.9660\n",
      "Epoch 52/100\n",
      "492/492 [==============================] - 0s 44us/sample - loss: 0.0839 - accuracy: 0.9654\n",
      "Epoch 53/100\n",
      "492/492 [==============================] - 0s 48us/sample - loss: 0.0826 - accuracy: 0.9670\n",
      "Epoch 54/100\n",
      "492/492 [==============================] - 0s 46us/sample - loss: 0.0815 - accuracy: 0.9660\n",
      "Epoch 55/100\n",
      "492/492 [==============================] - 0s 50us/sample - loss: 0.0806 - accuracy: 0.9670\n",
      "Epoch 56/100\n",
      "492/492 [==============================] - 0s 44us/sample - loss: 0.0793 - accuracy: 0.9660\n",
      "Epoch 57/100\n",
      "492/492 [==============================] - 0s 44us/sample - loss: 0.0784 - accuracy: 0.9680\n",
      "Epoch 58/100\n",
      "492/492 [==============================] - 0s 46us/sample - loss: 0.0774 - accuracy: 0.9680\n",
      "Epoch 59/100\n",
      "492/492 [==============================] - 0s 46us/sample - loss: 0.0764 - accuracy: 0.9665\n",
      "Epoch 60/100\n",
      "492/492 [==============================] - 0s 48us/sample - loss: 0.0755 - accuracy: 0.9680\n",
      "Epoch 61/100\n",
      "492/492 [==============================] - 0s 46us/sample - loss: 0.0750 - accuracy: 0.9695\n",
      "Epoch 62/100\n",
      "492/492 [==============================] - 0s 48us/sample - loss: 0.0735 - accuracy: 0.9680\n",
      "Epoch 63/100\n",
      "492/492 [==============================] - 0s 44us/sample - loss: 0.0726 - accuracy: 0.9680\n",
      "Epoch 64/100\n",
      "492/492 [==============================] - 0s 48us/sample - loss: 0.0720 - accuracy: 0.9685\n",
      "Epoch 65/100\n",
      "492/492 [==============================] - 0s 46us/sample - loss: 0.0710 - accuracy: 0.9700\n",
      "Epoch 66/100\n",
      "492/492 [==============================] - 0s 48us/sample - loss: 0.0705 - accuracy: 0.9695\n",
      "Epoch 67/100\n",
      "492/492 [==============================] - 0s 48us/sample - loss: 0.0701 - accuracy: 0.9705\n",
      "Epoch 68/100\n",
      "492/492 [==============================] - 0s 44us/sample - loss: 0.0683 - accuracy: 0.9710\n",
      "Epoch 69/100\n",
      "492/492 [==============================] - 0s 46us/sample - loss: 0.0674 - accuracy: 0.9700\n",
      "Epoch 70/100\n",
      "492/492 [==============================] - 0s 46us/sample - loss: 0.0666 - accuracy: 0.9695\n",
      "Epoch 71/100\n",
      "492/492 [==============================] - 0s 56us/sample - loss: 0.0664 - accuracy: 0.9715\n",
      "Epoch 72/100\n",
      "492/492 [==============================] - 0s 52us/sample - loss: 0.0652 - accuracy: 0.9715\n",
      "Epoch 73/100\n",
      "492/492 [==============================] - 0s 44us/sample - loss: 0.0649 - accuracy: 0.9741\n",
      "Epoch 74/100\n",
      "492/492 [==============================] - 0s 46us/sample - loss: 0.0640 - accuracy: 0.9756\n",
      "Epoch 75/100\n",
      "492/492 [==============================] - 0s 59us/sample - loss: 0.0627 - accuracy: 0.9766\n",
      "Epoch 76/100\n",
      "492/492 [==============================] - 0s 58us/sample - loss: 0.0622 - accuracy: 0.9751\n",
      "Epoch 77/100\n",
      "492/492 [==============================] - 0s 56us/sample - loss: 0.0627 - accuracy: 0.9756\n",
      "Epoch 78/100\n"
     ]
    },
    {
     "name": "stdout",
     "output_type": "stream",
     "text": [
      "492/492 [==============================] - 0s 50us/sample - loss: 0.0605 - accuracy: 0.9776\n",
      "Epoch 79/100\n",
      "492/492 [==============================] - 0s 42us/sample - loss: 0.0600 - accuracy: 0.9766\n",
      "Epoch 80/100\n",
      "492/492 [==============================] - 0s 42us/sample - loss: 0.0590 - accuracy: 0.9766\n",
      "Epoch 81/100\n",
      "492/492 [==============================] - 0s 48us/sample - loss: 0.0588 - accuracy: 0.9792\n",
      "Epoch 82/100\n",
      "492/492 [==============================] - 0s 52us/sample - loss: 0.0576 - accuracy: 0.9766\n",
      "Epoch 83/100\n",
      "492/492 [==============================] - 0s 52us/sample - loss: 0.0574 - accuracy: 0.9782\n",
      "Epoch 84/100\n",
      "492/492 [==============================] - 0s 44us/sample - loss: 0.0564 - accuracy: 0.9782\n",
      "Epoch 85/100\n",
      "492/492 [==============================] - 0s 40us/sample - loss: 0.0554 - accuracy: 0.9792\n",
      "Epoch 86/100\n",
      "492/492 [==============================] - 0s 44us/sample - loss: 0.0546 - accuracy: 0.9802\n",
      "Epoch 87/100\n",
      "492/492 [==============================] - 0s 42us/sample - loss: 0.0541 - accuracy: 0.9782\n",
      "Epoch 88/100\n",
      "492/492 [==============================] - 0s 46us/sample - loss: 0.0538 - accuracy: 0.9787\n",
      "Epoch 89/100\n",
      "492/492 [==============================] - 0s 49us/sample - loss: 0.0548 - accuracy: 0.9792\n",
      "Epoch 90/100\n",
      "492/492 [==============================] - 0s 48us/sample - loss: 0.0549 - accuracy: 0.9787\n",
      "Epoch 91/100\n",
      "492/492 [==============================] - 0s 48us/sample - loss: 0.0529 - accuracy: 0.9802\n",
      "Epoch 92/100\n",
      "492/492 [==============================] - 0s 55us/sample - loss: 0.0512 - accuracy: 0.9797\n",
      "Epoch 93/100\n",
      "492/492 [==============================] - 0s 46us/sample - loss: 0.0521 - accuracy: 0.9792\n",
      "Epoch 94/100\n",
      "492/492 [==============================] - 0s 46us/sample - loss: 0.0511 - accuracy: 0.9797\n",
      "Epoch 95/100\n",
      "492/492 [==============================] - 0s 46us/sample - loss: 0.0499 - accuracy: 0.9802\n",
      "Epoch 96/100\n",
      "492/492 [==============================] - 0s 50us/sample - loss: 0.0497 - accuracy: 0.9807\n",
      "Epoch 97/100\n",
      "492/492 [==============================] - 0s 45us/sample - loss: 0.0487 - accuracy: 0.9807\n",
      "Epoch 98/100\n",
      "492/492 [==============================] - 0s 97us/sample - loss: 0.0485 - accuracy: 0.9807\n",
      "Epoch 99/100\n",
      "492/492 [==============================] - 0s 90us/sample - loss: 0.0478 - accuracy: 0.9812\n",
      "Epoch 100/100\n",
      "492/492 [==============================] - 0s 58us/sample - loss: 0.0476 - accuracy: 0.9802\n"
     ]
    },
    {
     "data": {
      "text/plain": [
       "<tensorflow.python.keras.callbacks.History at 0x256a725ec08>"
      ]
     },
     "execution_count": 11,
     "metadata": {},
     "output_type": "execute_result"
    }
   ],
   "source": [
    "ann.fit(x_train, y_train, batch_size = 32, epochs = 100)"
   ]
  },
  {
   "cell_type": "code",
   "execution_count": 12,
   "metadata": {},
   "outputs": [
    {
     "name": "stdout",
     "output_type": "stream",
     "text": [
      "Train on 492 samples\n",
      "Epoch 1/100\n",
      "492/492 [==============================] - 1s 1ms/sample - loss: 0.7007 - accuracy: 0.5528\n",
      "Epoch 2/100\n",
      "492/492 [==============================] - 0s 79us/sample - loss: 0.6046 - accuracy: 0.7443\n",
      "Epoch 3/100\n",
      "492/492 [==============================] - 0s 60us/sample - loss: 0.5217 - accuracy: 0.8415\n",
      "Epoch 4/100\n",
      "492/492 [==============================] - 0s 54us/sample - loss: 0.4475 - accuracy: 0.8923\n",
      "Epoch 5/100\n",
      "492/492 [==============================] - 0s 56us/sample - loss: 0.3832 - accuracy: 0.8967\n",
      "Epoch 6/100\n",
      "492/492 [==============================] - 0s 58us/sample - loss: 0.3340 - accuracy: 0.8959\n",
      "Epoch 7/100\n",
      "492/492 [==============================] - 0s 50us/sample - loss: 0.2999 - accuracy: 0.8972\n",
      "Epoch 8/100\n",
      "492/492 [==============================] - 0s 52us/sample - loss: 0.2787 - accuracy: 0.8976\n",
      "Epoch 9/100\n",
      "492/492 [==============================] - 0s 56us/sample - loss: 0.2650 - accuracy: 0.8972\n",
      "Epoch 10/100\n",
      "492/492 [==============================] - 0s 56us/sample - loss: 0.2559 - accuracy: 0.8972\n",
      "Epoch 11/100\n",
      "492/492 [==============================] - 0s 58us/sample - loss: 0.2488 - accuracy: 0.8992\n",
      "Epoch 12/100\n",
      "492/492 [==============================] - 0s 60us/sample - loss: 0.2430 - accuracy: 0.9000\n",
      "Epoch 13/100\n",
      "492/492 [==============================] - 0s 58us/sample - loss: 0.2380 - accuracy: 0.9016\n",
      "Epoch 14/100\n",
      "492/492 [==============================] - 0s 50us/sample - loss: 0.2333 - accuracy: 0.9057\n",
      "Epoch 15/100\n",
      "492/492 [==============================] - 0s 44us/sample - loss: 0.2291 - accuracy: 0.9065\n",
      "Epoch 16/100\n",
      "492/492 [==============================] - 0s 44us/sample - loss: 0.2250 - accuracy: 0.9057\n",
      "Epoch 17/100\n",
      "492/492 [==============================] - 0s 48us/sample - loss: 0.2211 - accuracy: 0.9081\n",
      "Epoch 18/100\n",
      "492/492 [==============================] - 0s 67us/sample - loss: 0.2171 - accuracy: 0.9098\n",
      "Epoch 19/100\n",
      "492/492 [==============================] - 0s 44us/sample - loss: 0.2134 - accuracy: 0.9098\n",
      "Epoch 20/100\n",
      "492/492 [==============================] - 0s 50us/sample - loss: 0.2096 - accuracy: 0.9110\n",
      "Epoch 21/100\n",
      "492/492 [==============================] - 0s 48us/sample - loss: 0.2062 - accuracy: 0.9126\n",
      "Epoch 22/100\n",
      "492/492 [==============================] - 0s 50us/sample - loss: 0.2027 - accuracy: 0.9138\n",
      "Epoch 23/100\n",
      "492/492 [==============================] - 0s 44us/sample - loss: 0.1994 - accuracy: 0.9138\n",
      "Epoch 24/100\n",
      "492/492 [==============================] - 0s 58us/sample - loss: 0.1963 - accuracy: 0.9146\n",
      "Epoch 25/100\n",
      "492/492 [==============================] - 0s 54us/sample - loss: 0.1930 - accuracy: 0.9142\n",
      "Epoch 26/100\n",
      "492/492 [==============================] - 0s 58us/sample - loss: 0.1897 - accuracy: 0.9146\n",
      "Epoch 27/100\n",
      "492/492 [==============================] - 0s 58us/sample - loss: 0.1867 - accuracy: 0.9163\n",
      "Epoch 28/100\n",
      "492/492 [==============================] - 0s 52us/sample - loss: 0.1833 - accuracy: 0.9171\n",
      "Epoch 29/100\n",
      "492/492 [==============================] - 0s 54us/sample - loss: 0.1803 - accuracy: 0.9179\n",
      "Epoch 30/100\n",
      "492/492 [==============================] - 0s 54us/sample - loss: 0.1772 - accuracy: 0.9191\n",
      "Epoch 31/100\n",
      "492/492 [==============================] - 0s 50us/sample - loss: 0.1742 - accuracy: 0.9195\n",
      "Epoch 32/100\n",
      "492/492 [==============================] - 0s 54us/sample - loss: 0.1711 - accuracy: 0.9215\n",
      "Epoch 33/100\n",
      "492/492 [==============================] - 0s 44us/sample - loss: 0.1681 - accuracy: 0.9224\n",
      "Epoch 34/100\n",
      "492/492 [==============================] - 0s 46us/sample - loss: 0.1654 - accuracy: 0.9244\n",
      "Epoch 35/100\n",
      "492/492 [==============================] - 0s 42us/sample - loss: 0.1622 - accuracy: 0.9268\n",
      "Epoch 36/100\n",
      "492/492 [==============================] - 0s 42us/sample - loss: 0.1592 - accuracy: 0.9276\n",
      "Epoch 37/100\n",
      "492/492 [==============================] - 0s 58us/sample - loss: 0.1561 - accuracy: 0.9293\n",
      "Epoch 38/100\n",
      "492/492 [==============================] - 0s 46us/sample - loss: 0.1528 - accuracy: 0.9301\n",
      "Epoch 39/100\n",
      "492/492 [==============================] - 0s 44us/sample - loss: 0.1499 - accuracy: 0.9305\n",
      "Epoch 40/100\n",
      "492/492 [==============================] - 0s 44us/sample - loss: 0.1467 - accuracy: 0.9321\n",
      "Epoch 41/100\n",
      "492/492 [==============================] - 0s 42us/sample - loss: 0.1438 - accuracy: 0.9341\n",
      "Epoch 42/100\n",
      "492/492 [==============================] - 0s 52us/sample - loss: 0.1410 - accuracy: 0.9350\n",
      "Epoch 43/100\n",
      "492/492 [==============================] - 0s 50us/sample - loss: 0.1383 - accuracy: 0.9346\n",
      "Epoch 44/100\n",
      "492/492 [==============================] - 0s 46us/sample - loss: 0.1352 - accuracy: 0.9370\n",
      "Epoch 45/100\n",
      "492/492 [==============================] - 0s 50us/sample - loss: 0.1324 - accuracy: 0.9390\n",
      "Epoch 46/100\n",
      "492/492 [==============================] - 0s 46us/sample - loss: 0.1300 - accuracy: 0.9394\n",
      "Epoch 47/100\n",
      "492/492 [==============================] - 0s 42us/sample - loss: 0.1271 - accuracy: 0.9427\n",
      "Epoch 48/100\n",
      "492/492 [==============================] - 0s 56us/sample - loss: 0.1244 - accuracy: 0.9451\n",
      "Epoch 49/100\n",
      "492/492 [==============================] - 0s 48us/sample - loss: 0.1220 - accuracy: 0.9472\n",
      "Epoch 50/100\n",
      "492/492 [==============================] - 0s 50us/sample - loss: 0.1193 - accuracy: 0.9480\n",
      "Epoch 51/100\n",
      "492/492 [==============================] - 0s 48us/sample - loss: 0.1170 - accuracy: 0.9484\n",
      "Epoch 52/100\n",
      "492/492 [==============================] - 0s 46us/sample - loss: 0.1144 - accuracy: 0.9508\n",
      "Epoch 53/100\n",
      "492/492 [==============================] - 0s 46us/sample - loss: 0.1118 - accuracy: 0.9528\n",
      "Epoch 54/100\n",
      "492/492 [==============================] - 0s 52us/sample - loss: 0.1094 - accuracy: 0.9545\n",
      "Epoch 55/100\n",
      "492/492 [==============================] - 0s 46us/sample - loss: 0.1072 - accuracy: 0.9577\n",
      "Epoch 56/100\n",
      "492/492 [==============================] - 0s 41us/sample - loss: 0.1047 - accuracy: 0.9598\n",
      "Epoch 57/100\n",
      "492/492 [==============================] - 0s 52us/sample - loss: 0.1026 - accuracy: 0.9618\n",
      "Epoch 58/100\n",
      "492/492 [==============================] - 0s 54us/sample - loss: 0.1001 - accuracy: 0.9650\n",
      "Epoch 59/100\n",
      "492/492 [==============================] - 0s 48us/sample - loss: 0.0979 - accuracy: 0.9650\n",
      "Epoch 60/100\n",
      "492/492 [==============================] - 0s 44us/sample - loss: 0.0961 - accuracy: 0.9679\n",
      "Epoch 61/100\n",
      "492/492 [==============================] - 0s 44us/sample - loss: 0.0937 - accuracy: 0.9683\n",
      "Epoch 62/100\n",
      "492/492 [==============================] - 0s 46us/sample - loss: 0.0917 - accuracy: 0.9703\n",
      "Epoch 63/100\n",
      "492/492 [==============================] - 0s 44us/sample - loss: 0.0894 - accuracy: 0.9720\n",
      "Epoch 64/100\n",
      "492/492 [==============================] - 0s 46us/sample - loss: 0.0876 - accuracy: 0.9732\n",
      "Epoch 65/100\n",
      "492/492 [==============================] - 0s 60us/sample - loss: 0.0856 - accuracy: 0.9744\n",
      "Epoch 66/100\n",
      "492/492 [==============================] - 0s 62us/sample - loss: 0.0839 - accuracy: 0.9740\n",
      "Epoch 67/100\n",
      "492/492 [==============================] - 0s 60us/sample - loss: 0.0819 - accuracy: 0.9744\n",
      "Epoch 68/100\n",
      "492/492 [==============================] - 0s 48us/sample - loss: 0.0807 - accuracy: 0.9740\n",
      "Epoch 69/100\n",
      "492/492 [==============================] - 0s 52us/sample - loss: 0.0786 - accuracy: 0.9752\n",
      "Epoch 70/100\n",
      "492/492 [==============================] - 0s 58us/sample - loss: 0.0769 - accuracy: 0.9756\n",
      "Epoch 71/100\n",
      "492/492 [==============================] - 0s 61us/sample - loss: 0.0750 - accuracy: 0.9776\n",
      "Epoch 72/100\n",
      "492/492 [==============================] - 0s 65us/sample - loss: 0.0741 - accuracy: 0.9776\n",
      "Epoch 73/100\n",
      "492/492 [==============================] - 0s 50us/sample - loss: 0.0725 - accuracy: 0.9785\n",
      "Epoch 74/100\n",
      "492/492 [==============================] - 0s 50us/sample - loss: 0.0708 - accuracy: 0.9793\n",
      "Epoch 75/100\n",
      "492/492 [==============================] - 0s 46us/sample - loss: 0.0695 - accuracy: 0.9789\n",
      "Epoch 76/100\n",
      "492/492 [==============================] - 0s 60us/sample - loss: 0.0680 - accuracy: 0.9793\n",
      "Epoch 77/100\n",
      "492/492 [==============================] - 0s 48us/sample - loss: 0.0668 - accuracy: 0.9793\n",
      "Epoch 78/100\n"
     ]
    },
    {
     "name": "stdout",
     "output_type": "stream",
     "text": [
      "492/492 [==============================] - 0s 44us/sample - loss: 0.0653 - accuracy: 0.9797\n",
      "Epoch 79/100\n",
      "492/492 [==============================] - 0s 46us/sample - loss: 0.0642 - accuracy: 0.9805\n",
      "Epoch 80/100\n",
      "492/492 [==============================] - 0s 44us/sample - loss: 0.0629 - accuracy: 0.9809\n",
      "Epoch 81/100\n",
      "492/492 [==============================] - 0s 42us/sample - loss: 0.0617 - accuracy: 0.9809\n",
      "Epoch 82/100\n",
      "492/492 [==============================] - 0s 46us/sample - loss: 0.0606 - accuracy: 0.9801\n",
      "Epoch 83/100\n",
      "492/492 [==============================] - 0s 46us/sample - loss: 0.0594 - accuracy: 0.9813\n",
      "Epoch 84/100\n",
      "492/492 [==============================] - 0s 46us/sample - loss: 0.0582 - accuracy: 0.9829\n",
      "Epoch 85/100\n",
      "492/492 [==============================] - 0s 46us/sample - loss: 0.0570 - accuracy: 0.9817\n",
      "Epoch 86/100\n",
      "492/492 [==============================] - 0s 44us/sample - loss: 0.0559 - accuracy: 0.9833\n",
      "Epoch 87/100\n",
      "492/492 [==============================] - 0s 42us/sample - loss: 0.0548 - accuracy: 0.9829\n",
      "Epoch 88/100\n",
      "492/492 [==============================] - 0s 48us/sample - loss: 0.0543 - accuracy: 0.9825\n",
      "Epoch 89/100\n",
      "492/492 [==============================] - 0s 48us/sample - loss: 0.0528 - accuracy: 0.9837\n",
      "Epoch 90/100\n",
      "492/492 [==============================] - 0s 50us/sample - loss: 0.0518 - accuracy: 0.9846\n",
      "Epoch 91/100\n",
      "492/492 [==============================] - 0s 46us/sample - loss: 0.0509 - accuracy: 0.9850\n",
      "Epoch 92/100\n",
      "492/492 [==============================] - 0s 50us/sample - loss: 0.0502 - accuracy: 0.9854\n",
      "Epoch 93/100\n",
      "492/492 [==============================] - 0s 48us/sample - loss: 0.0494 - accuracy: 0.9862\n",
      "Epoch 94/100\n",
      "492/492 [==============================] - 0s 46us/sample - loss: 0.0487 - accuracy: 0.9846\n",
      "Epoch 95/100\n",
      "492/492 [==============================] - 0s 50us/sample - loss: 0.0469 - accuracy: 0.9862\n",
      "Epoch 96/100\n",
      "492/492 [==============================] - 0s 48us/sample - loss: 0.0464 - accuracy: 0.9866\n",
      "Epoch 97/100\n",
      "492/492 [==============================] - 0s 61us/sample - loss: 0.0457 - accuracy: 0.9870\n",
      "Epoch 98/100\n",
      "492/492 [==============================] - 0s 50us/sample - loss: 0.0445 - accuracy: 0.9870\n",
      "Epoch 99/100\n",
      "492/492 [==============================] - 0s 48us/sample - loss: 0.0436 - accuracy: 0.9870\n",
      "Epoch 100/100\n",
      "492/492 [==============================] - 0s 46us/sample - loss: 0.0430 - accuracy: 0.9886\n"
     ]
    },
    {
     "data": {
      "text/plain": [
       "<tensorflow.python.keras.callbacks.History at 0x256a7765dc8>"
      ]
     },
     "execution_count": 12,
     "metadata": {},
     "output_type": "execute_result"
    }
   ],
   "source": [
    "ann2.fit(x2_train, y2_train, batch_size = 32, epochs = 100)"
   ]
  },
  {
   "cell_type": "markdown",
   "metadata": {},
   "source": [
    "Summary ML "
   ]
  },
  {
   "cell_type": "code",
   "execution_count": 13,
   "metadata": {},
   "outputs": [
    {
     "name": "stdout",
     "output_type": "stream",
     "text": [
      "Model: \"sequential\"\n",
      "_________________________________________________________________\n",
      "Layer (type)                 Output Shape              Param #   \n",
      "=================================================================\n",
      "dense (Dense)                multiple                  160       \n",
      "_________________________________________________________________\n",
      "dense_2 (Dense)              multiple                  528       \n",
      "_________________________________________________________________\n",
      "dense_4 (Dense)              multiple                  68        \n",
      "=================================================================\n",
      "Total params: 756\n",
      "Trainable params: 756\n",
      "Non-trainable params: 0\n",
      "_________________________________________________________________\n",
      "None\n"
     ]
    }
   ],
   "source": [
    "print(ann.summary())"
   ]
  },
  {
   "cell_type": "code",
   "execution_count": 14,
   "metadata": {},
   "outputs": [
    {
     "name": "stdout",
     "output_type": "stream",
     "text": [
      "Model: \"sequential_1\"\n",
      "_________________________________________________________________\n",
      "Layer (type)                 Output Shape              Param #   \n",
      "=================================================================\n",
      "dense_1 (Dense)              multiple                  224       \n",
      "_________________________________________________________________\n",
      "dense_3 (Dense)              multiple                  528       \n",
      "_________________________________________________________________\n",
      "dense_5 (Dense)              multiple                  85        \n",
      "=================================================================\n",
      "Total params: 837\n",
      "Trainable params: 837\n",
      "Non-trainable params: 0\n",
      "_________________________________________________________________\n",
      "None\n"
     ]
    }
   ],
   "source": [
    "print(ann2.summary())"
   ]
  },
  {
   "cell_type": "markdown",
   "metadata": {},
   "source": [
    "EXPORT  MODEL"
   ]
  },
  {
   "cell_type": "code",
   "execution_count": 15,
   "metadata": {},
   "outputs": [
    {
     "name": "stdout",
     "output_type": "stream",
     "text": [
      "WARNING:tensorflow:From C:\\Users\\GOCCHAN\\Anaconda3\\lib\\site-packages\\tensorflow_core\\python\\ops\\resource_variable_ops.py:1786: calling BaseResourceVariable.__init__ (from tensorflow.python.ops.resource_variable_ops) with constraint is deprecated and will be removed in a future version.\n",
      "Instructions for updating:\n",
      "If using Keras pass *_constraint arguments to layers.\n",
      "INFO:tensorflow:Assets written to: ann\\assets\n",
      "INFO:tensorflow:Assets written to: ann2\\assets\n"
     ]
    }
   ],
   "source": [
    "ann.save(\"ann\")\n",
    "ann2.save(\"ann2\")"
   ]
  },
  {
   "cell_type": "code",
   "execution_count": 16,
   "metadata": {},
   "outputs": [
    {
     "name": "stderr",
     "output_type": "stream",
     "text": [
      "C:\\Users\\GOCCHAN\\Anaconda3\\lib\\site-packages\\sklearn\\externals\\joblib\\__init__.py:15: DeprecationWarning: sklearn.externals.joblib is deprecated in 0.21 and will be removed in 0.23. Please import this functionality directly from joblib, which can be installed with: pip install joblib. If this warning is raised when loading pickled models, you may need to re-serialize those models with scikit-learn 0.21+.\n",
      "  warnings.warn(msg, category=DeprecationWarning)\n"
     ]
    },
    {
     "data": {
      "text/plain": [
       "['std_scaler.bin']"
      ]
     },
     "execution_count": 16,
     "metadata": {},
     "output_type": "execute_result"
    }
   ],
   "source": [
    "from sklearn.externals.joblib import dump, load\n",
    "dump(sc, 'std_scaler.bin', compress=True)"
   ]
  },
  {
   "cell_type": "code",
   "execution_count": 17,
   "metadata": {},
   "outputs": [
    {
     "data": {
      "text/plain": [
       "['std_scaler2.bin']"
      ]
     },
     "execution_count": 17,
     "metadata": {},
     "output_type": "execute_result"
    }
   ],
   "source": [
    "dump(SC, 'std_scaler2.bin', compress=True)"
   ]
  }
 ],
 "metadata": {
  "kernelspec": {
   "display_name": "Python 3",
   "language": "python",
   "name": "python3"
  },
  "language_info": {
   "codemirror_mode": {
    "name": "ipython",
    "version": 3
   },
   "file_extension": ".py",
   "mimetype": "text/x-python",
   "name": "python",
   "nbconvert_exporter": "python",
   "pygments_lexer": "ipython3",
   "version": "3.7.4"
  }
 },
 "nbformat": 4,
 "nbformat_minor": 2
}

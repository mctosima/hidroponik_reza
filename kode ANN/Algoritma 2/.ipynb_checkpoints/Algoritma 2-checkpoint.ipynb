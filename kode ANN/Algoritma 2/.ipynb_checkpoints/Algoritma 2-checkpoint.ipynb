{
 "cells": [
  {
   "cell_type": "code",
   "execution_count": 1,
   "metadata": {},
   "outputs": [
    {
     "data": {
      "text/plain": [
       "'2.1.0'"
      ]
     },
     "execution_count": 1,
     "metadata": {},
     "output_type": "execute_result"
    }
   ],
   "source": [
    "import numpy as np\n",
    "import pandas as pd\n",
    "import tensorflow as tf\n",
    "\n",
    "tf.__version__"
   ]
  },
  {
   "cell_type": "code",
   "execution_count": 2,
   "metadata": {},
   "outputs": [
    {
     "name": "stderr",
     "output_type": "stream",
     "text": [
      "C:\\Users\\GOCCHAN\\Anaconda3\\lib\\site-packages\\sklearn\\externals\\joblib\\__init__.py:15: DeprecationWarning: sklearn.externals.joblib is deprecated in 0.21 and will be removed in 0.23. Please import this functionality directly from joblib, which can be installed with: pip install joblib. If this warning is raised when loading pickled models, you may need to re-serialize those models with scikit-learn 0.21+.\n",
      "  warnings.warn(msg, category=DeprecationWarning)\n"
     ]
    }
   ],
   "source": [
    "from sklearn.externals.joblib import dump, load\n",
    "\n",
    "sc=load('std_scaler.bin')\n",
    "SC=load('std_scaler2.bin')"
   ]
  },
  {
   "cell_type": "code",
   "execution_count": 3,
   "metadata": {},
   "outputs": [],
   "source": [
    "ann_load = tf.keras.models.load_model(\"ann\")\n",
    "ann2_load = tf.keras.models.load_model(\"ann2\")"
   ]
  },
  {
   "cell_type": "code",
   "execution_count": 4,
   "metadata": {},
   "outputs": [],
   "source": [
    "ph=6.5\n",
    "cahaya=1\n",
    "intensitas=3\n",
    "suhu=27\n",
    "ppm=188\n",
    "air=622"
   ]
  },
  {
   "cell_type": "code",
   "execution_count": 5,
   "metadata": {},
   "outputs": [
    {
     "name": "stdout",
     "output_type": "stream",
     "text": [
      "[[0.28496483 0.02571147 0.01768126 0.78110737]]\n",
      "0.78110737 3\n"
     ]
    }
   ],
   "source": [
    "prediction = ann_load.predict(sc.transform([[cahaya,\n",
    "                                        intensitas,\n",
    "                                        suhu,\n",
    "                                        ppm]])) \n",
    "print(prediction)\n",
    "pred=(max(prediction))\n",
    "# print(max(pred))\n",
    "xMax=-999\n",
    "xMaxId=-1\n",
    "i=0\n",
    "\n",
    "for x in pred:\n",
    "    if (x > xMax):\n",
    "        xMax=x\n",
    "        xMaxId=i\n",
    "    i=i+1\n",
    "        \n",
    "\n",
    "print(xMax,xMaxId)"
   ]
  },
  {
   "cell_type": "code",
   "execution_count": 6,
   "metadata": {},
   "outputs": [
    {
     "name": "stdout",
     "output_type": "stream",
     "text": [
      "[[2.1586059e-02 1.4377561e-01 1.3127440e-07 7.7856928e-01 2.7483782e-02]]\n",
      "0.7785693 3\n"
     ]
    }
   ],
   "source": [
    "prediction2 = ann2_load.predict(SC.transform([[ph,\n",
    "                                        cahaya,\n",
    "                                        intensitas,\n",
    "                                        suhu,\n",
    "                                        ppm,\n",
    "                                        air]])) \n",
    "\n",
    "print(prediction2)\n",
    "pred2=(max(prediction2))\n",
    "# print(max(pred))\n",
    "xMax2=-999\n",
    "xMaxId2=-1\n",
    "j=0\n",
    "\n",
    "for x in pred2:\n",
    "    if (x > xMax2):\n",
    "        xMax2=x\n",
    "        xMaxId2=j\n",
    "    j=j+1\n",
    "\n",
    "print(xMax2,xMaxId2)"
   ]
  },
  {
   "cell_type": "code",
   "execution_count": 7,
   "metadata": {},
   "outputs": [],
   "source": [
    "hasil_ml=xMaxId\n",
    "hasil_notif=xMaxId2"
   ]
  }
 ],
 "metadata": {
  "kernelspec": {
   "display_name": "Python 3",
   "language": "python",
   "name": "python3"
  },
  "language_info": {
   "codemirror_mode": {
    "name": "ipython",
    "version": 3
   },
   "file_extension": ".py",
   "mimetype": "text/x-python",
   "name": "python",
   "nbconvert_exporter": "python",
   "pygments_lexer": "ipython3",
   "version": "3.7.4"
  }
 },
 "nbformat": 4,
 "nbformat_minor": 2
}

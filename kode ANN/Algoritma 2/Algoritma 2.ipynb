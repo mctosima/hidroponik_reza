{
 "cells": [
  {
   "cell_type": "code",
   "execution_count": 1,
   "metadata": {},
   "outputs": [
    {
     "data": {
      "text/plain": [
       "'2.1.0'"
      ]
     },
     "execution_count": 1,
     "metadata": {},
     "output_type": "execute_result"
    }
   ],
   "source": [
    "import numpy as np\n",
    "import pandas as pd\n",
    "import tensorflow as tf\n",
    "\n",
    "tf.__version__"
   ]
  },
  {
   "cell_type": "code",
   "execution_count": 2,
   "metadata": {},
   "outputs": [
    {
     "name": "stderr",
     "output_type": "stream",
     "text": [
      "C:\\Users\\GOCCHAN\\Anaconda3\\lib\\site-packages\\sklearn\\externals\\joblib\\__init__.py:15: DeprecationWarning: sklearn.externals.joblib is deprecated in 0.21 and will be removed in 0.23. Please import this functionality directly from joblib, which can be installed with: pip install joblib. If this warning is raised when loading pickled models, you may need to re-serialize those models with scikit-learn 0.21+.\n",
      "  warnings.warn(msg, category=DeprecationWarning)\n"
     ]
    }
   ],
   "source": [
    "from sklearn.externals.joblib import dump, load\n",
    "\n",
    "sc=load('std_scaler.bin')\n",
    "SC=load('std_scaler2.bin')"
   ]
  },
  {
   "cell_type": "code",
   "execution_count": 3,
   "metadata": {},
   "outputs": [],
   "source": [
    "ann_load = tf.keras.models.load_model(\"ann\")\n",
    "ann2_load = tf.keras.models.load_model(\"ann2\")"
   ]
  },
  {
   "cell_type": "code",
   "execution_count": 14,
   "metadata": {},
   "outputs": [],
   "source": [
    "ph=5.8\n",
    "cahaya=0\n",
    "intensitas=3\n",
    "suhu=26.5\n",
    "ppm=412\n",
    "air=340"
   ]
  },
  {
   "cell_type": "code",
   "execution_count": 15,
   "metadata": {},
   "outputs": [
    {
     "name": "stdout",
     "output_type": "stream",
     "text": [
      "[[0.01279078 0.00777647 0.95420164 0.02778921]]\n",
      "0.95420164 2\n"
     ]
    }
   ],
   "source": [
    "prediction = ann_load.predict(sc.transform([[cahaya,\n",
    "                                        intensitas,\n",
    "                                        suhu,\n",
    "                                        ppm]])) \n",
    "print(prediction)\n",
    "pred=(max(prediction))\n",
    "# print(max(pred))\n",
    "xMax=-999\n",
    "xMaxId=-1\n",
    "i=0\n",
    "\n",
    "for x in pred:\n",
    "    if (x > xMax):\n",
    "        xMax=x\n",
    "        xMaxId=i\n",
    "    i=i+1\n",
    "        \n",
    "\n",
    "print(xMax,xMaxId)"
   ]
  },
  {
   "cell_type": "code",
   "execution_count": 16,
   "metadata": {},
   "outputs": [
    {
     "name": "stdout",
     "output_type": "stream",
     "text": [
      "[[2.4599532e-02 5.4082012e-01 8.5437698e-08 7.6868856e-01 8.0310630e-05]]\n",
      "0.76868856 3\n"
     ]
    }
   ],
   "source": [
    "prediction2 = ann2_load.predict(SC.transform([[ph,\n",
    "                                        cahaya,\n",
    "                                        intensitas,\n",
    "                                        suhu,\n",
    "                                        ppm,\n",
    "                                        air]])) \n",
    "\n",
    "print(prediction2)\n",
    "pred2=(max(prediction2))\n",
    "# print(max(pred))\n",
    "xMax2=-999\n",
    "xMaxId2=-1\n",
    "j=0\n",
    "\n",
    "for x in pred2:\n",
    "    if (x > xMax2):\n",
    "        xMax2=x\n",
    "        xMaxId2=j\n",
    "    j=j+1\n",
    "\n",
    "print(xMax2,xMaxId2)"
   ]
  },
  {
   "cell_type": "code",
   "execution_count": 17,
   "metadata": {},
   "outputs": [],
   "source": [
    "hasil_ml=xMaxId\n",
    "hasil_notif=xMaxId2"
   ]
  },
  {
   "cell_type": "code",
   "execution_count": 18,
   "metadata": {},
   "outputs": [
    {
     "name": "stdout",
     "output_type": "stream",
     "text": [
      "2 3\n"
     ]
    }
   ],
   "source": [
    "print(hasil_ml,hasil_notif)"
   ]
  },
  {
   "cell_type": "code",
   "execution_count": null,
   "metadata": {},
   "outputs": [],
   "source": []
  }
 ],
 "metadata": {
  "kernelspec": {
   "display_name": "Python 3",
   "language": "python",
   "name": "python3"
  },
  "language_info": {
   "codemirror_mode": {
    "name": "ipython",
    "version": 3
   },
   "file_extension": ".py",
   "mimetype": "text/x-python",
   "name": "python",
   "nbconvert_exporter": "python",
   "pygments_lexer": "ipython3",
   "version": "3.7.4"
  }
 },
 "nbformat": 4,
 "nbformat_minor": 2
}

{
 "cells": [
  {
   "cell_type": "code",
   "execution_count": 1,
   "metadata": {},
   "outputs": [
    {
     "data": {
      "text/plain": [
       "'2.1.0'"
      ]
     },
     "execution_count": 1,
     "metadata": {},
     "output_type": "execute_result"
    }
   ],
   "source": [
    "import tensorflow as tf\n",
    "tf.__version__\n",
    "\n"
   ]
  },
  {
   "cell_type": "code",
   "execution_count": 2,
   "metadata": {},
   "outputs": [],
   "source": [
    "from sklearn.preprocessing import StandardScaler\n",
    "sc = StandardScaler()\n",
    "SC = StandardScaler()"
   ]
  },
  {
   "cell_type": "code",
   "execution_count": 3,
   "metadata": {},
   "outputs": [],
   "source": [
    "ph=6.5\n",
    "cahaya=1\n",
    "intensitas=2\n",
    "suhu=27.1\n",
    "ppm=758\n",
    "air= 458"
   ]
  },
  {
   "cell_type": "code",
   "execution_count": 4,
   "metadata": {},
   "outputs": [],
   "source": [
    "ann0_load = tf.keras.models.load_model(\"ann0\")\n",
    "ann1_load = tf.keras.models.load_model(\"ann1\")\n",
    "ann2_load = tf.keras.models.load_model(\"ann2\")\n",
    "ann3_load = tf.keras.models.load_model(\"ann3\")"
   ]
  },
  {
   "cell_type": "code",
   "execution_count": 5,
   "metadata": {},
   "outputs": [],
   "source": [
    "ANN0_load = tf.keras.models.load_model(\"ANN-0\")\n",
    "ANN1_load = tf.keras.models.load_model(\"ANN-1\")\n",
    "ANN2_load = tf.keras.models.load_model(\"ANN-2\")\n",
    "ANN3_load = tf.keras.models.load_model(\"ANN-3\")\n",
    "ANN4_load = tf.keras.models.load_model(\"ANN-4\")"
   ]
  },
  {
   "cell_type": "code",
   "execution_count": 6,
   "metadata": {},
   "outputs": [
    {
     "ename": "NotFittedError",
     "evalue": "This StandardScaler instance is not fitted yet. Call 'fit' with appropriate arguments before using this method.",
     "output_type": "error",
     "traceback": [
      "\u001b[1;31m---------------------------------------------------------------------------\u001b[0m",
      "\u001b[1;31mNotFittedError\u001b[0m                            Traceback (most recent call last)",
      "\u001b[1;32m<ipython-input-6-49fdcb8464af>\u001b[0m in \u001b[0;36m<module>\u001b[1;34m\u001b[0m\n\u001b[0;32m      2\u001b[0m                                         \u001b[0mintensitas\u001b[0m\u001b[1;33m,\u001b[0m\u001b[1;33m\u001b[0m\u001b[1;33m\u001b[0m\u001b[0m\n\u001b[0;32m      3\u001b[0m                                         \u001b[0msuhu\u001b[0m\u001b[1;33m,\u001b[0m\u001b[1;33m\u001b[0m\u001b[1;33m\u001b[0m\u001b[0m\n\u001b[1;32m----> 4\u001b[1;33m                                         ppm]])) \n\u001b[0m\u001b[0;32m      5\u001b[0m \u001b[1;33m\u001b[0m\u001b[0m\n\u001b[0;32m      6\u001b[0m \u001b[0mprint\u001b[0m\u001b[1;33m(\u001b[0m\u001b[0mprediction0\u001b[0m\u001b[1;33m)\u001b[0m\u001b[1;33m\u001b[0m\u001b[1;33m\u001b[0m\u001b[0m\n",
      "\u001b[1;32m~\\Anaconda3\\lib\\site-packages\\sklearn\\preprocessing\\data.py\u001b[0m in \u001b[0;36mtransform\u001b[1;34m(self, X, copy)\u001b[0m\n\u001b[0;32m    751\u001b[0m             \u001b[0mCopy\u001b[0m \u001b[0mthe\u001b[0m \u001b[0minput\u001b[0m \u001b[0mX\u001b[0m \u001b[1;32mor\u001b[0m \u001b[1;32mnot\u001b[0m\u001b[1;33m.\u001b[0m\u001b[1;33m\u001b[0m\u001b[1;33m\u001b[0m\u001b[0m\n\u001b[0;32m    752\u001b[0m         \"\"\"\n\u001b[1;32m--> 753\u001b[1;33m         \u001b[0mcheck_is_fitted\u001b[0m\u001b[1;33m(\u001b[0m\u001b[0mself\u001b[0m\u001b[1;33m,\u001b[0m \u001b[1;34m'scale_'\u001b[0m\u001b[1;33m)\u001b[0m\u001b[1;33m\u001b[0m\u001b[1;33m\u001b[0m\u001b[0m\n\u001b[0m\u001b[0;32m    754\u001b[0m \u001b[1;33m\u001b[0m\u001b[0m\n\u001b[0;32m    755\u001b[0m         \u001b[0mcopy\u001b[0m \u001b[1;33m=\u001b[0m \u001b[0mcopy\u001b[0m \u001b[1;32mif\u001b[0m \u001b[0mcopy\u001b[0m \u001b[1;32mis\u001b[0m \u001b[1;32mnot\u001b[0m \u001b[1;32mNone\u001b[0m \u001b[1;32melse\u001b[0m \u001b[0mself\u001b[0m\u001b[1;33m.\u001b[0m\u001b[0mcopy\u001b[0m\u001b[1;33m\u001b[0m\u001b[1;33m\u001b[0m\u001b[0m\n",
      "\u001b[1;32m~\\Anaconda3\\lib\\site-packages\\sklearn\\utils\\validation.py\u001b[0m in \u001b[0;36mcheck_is_fitted\u001b[1;34m(estimator, attributes, msg, all_or_any)\u001b[0m\n\u001b[0;32m    912\u001b[0m \u001b[1;33m\u001b[0m\u001b[0m\n\u001b[0;32m    913\u001b[0m     \u001b[1;32mif\u001b[0m \u001b[1;32mnot\u001b[0m \u001b[0mall_or_any\u001b[0m\u001b[1;33m(\u001b[0m\u001b[1;33m[\u001b[0m\u001b[0mhasattr\u001b[0m\u001b[1;33m(\u001b[0m\u001b[0mestimator\u001b[0m\u001b[1;33m,\u001b[0m \u001b[0mattr\u001b[0m\u001b[1;33m)\u001b[0m \u001b[1;32mfor\u001b[0m \u001b[0mattr\u001b[0m \u001b[1;32min\u001b[0m \u001b[0mattributes\u001b[0m\u001b[1;33m]\u001b[0m\u001b[1;33m)\u001b[0m\u001b[1;33m:\u001b[0m\u001b[1;33m\u001b[0m\u001b[1;33m\u001b[0m\u001b[0m\n\u001b[1;32m--> 914\u001b[1;33m         \u001b[1;32mraise\u001b[0m \u001b[0mNotFittedError\u001b[0m\u001b[1;33m(\u001b[0m\u001b[0mmsg\u001b[0m \u001b[1;33m%\u001b[0m \u001b[1;33m{\u001b[0m\u001b[1;34m'name'\u001b[0m\u001b[1;33m:\u001b[0m \u001b[0mtype\u001b[0m\u001b[1;33m(\u001b[0m\u001b[0mestimator\u001b[0m\u001b[1;33m)\u001b[0m\u001b[1;33m.\u001b[0m\u001b[0m__name__\u001b[0m\u001b[1;33m}\u001b[0m\u001b[1;33m)\u001b[0m\u001b[1;33m\u001b[0m\u001b[1;33m\u001b[0m\u001b[0m\n\u001b[0m\u001b[0;32m    915\u001b[0m \u001b[1;33m\u001b[0m\u001b[0m\n\u001b[0;32m    916\u001b[0m \u001b[1;33m\u001b[0m\u001b[0m\n",
      "\u001b[1;31mNotFittedError\u001b[0m: This StandardScaler instance is not fitted yet. Call 'fit' with appropriate arguments before using this method."
     ]
    }
   ],
   "source": [
    "prediction0 = ann0_load.predict(sc.transform([[cahaya,\n",
    "                                        intensitas,\n",
    "                                        suhu,\n",
    "                                        ppm]])) \n",
    "\n",
    "print(prediction0)\n",
    "if (prediction0 > 0.5):\n",
    "   print('ga ngapa2in 1')\n",
    "else:\n",
    "   print('ngapain 0')"
   ]
  },
  {
   "cell_type": "code",
   "execution_count": null,
   "metadata": {},
   "outputs": [],
   "source": [
    "prediction1 = ann1_load.predict(sc.transform([[cahaya,\n",
    "                                        intensitas,\n",
    "                                        suhu,\n",
    "                                        ppm]])) \n",
    "\n",
    "print(prediction1)\n",
    "if (prediction1 > 0.5):\n",
    "   print('ngapain lampu 1')\n",
    "else:\n",
    "   print('ngapain lain 0')"
   ]
  },
  {
   "cell_type": "code",
   "execution_count": null,
   "metadata": {},
   "outputs": [],
   "source": [
    "prediction2 = ann2_load.predict(sc.transform([[cahaya,\n",
    "                                        intensitas,\n",
    "                                        suhu,\n",
    "                                        ppm]])) \n",
    "\n",
    "print(prediction2)\n",
    "if (prediction2 > 0.5):\n",
    "   print('ngapain pompa 1')\n",
    "else:\n",
    "   print('ngapain lain 0')"
   ]
  },
  {
   "cell_type": "code",
   "execution_count": null,
   "metadata": {},
   "outputs": [],
   "source": [
    "prediction3 = ann3_load.predict(sc.transform([[cahaya,\n",
    "                                        intensitas,\n",
    "                                        suhu,\n",
    "                                        ppm]])) \n",
    "\n",
    "print(prediction3)\n",
    "if (prediction3 > 0.5):\n",
    "   print('ngapain pompa dan lampu 1')\n",
    "else:\n",
    "   print('ngapain lain 0')"
   ]
  },
  {
   "cell_type": "code",
   "execution_count": null,
   "metadata": {},
   "outputs": [],
   "source": [
    "a=[prediction0,prediction1,prediction2,prediction3]\n",
    "b=max(a);\n",
    "c=a.index(b)\n",
    "print(b)\n",
    "print(c)"
   ]
  },
  {
   "cell_type": "code",
   "execution_count": null,
   "metadata": {},
   "outputs": [],
   "source": [
    "Prediction0 = ANN0_load.predict(SC.transform([[ph,\n",
    "                                        cahaya,\n",
    "                                        intensitas,\n",
    "                                        suhu,\n",
    "                                        ppm,\n",
    "                                        air]])) \n",
    "\n",
    "print(Prediction0)\n",
    "if (Prediction0 > 0.5):\n",
    "   print('ga ngapa2in 1')\n",
    "else:\n",
    "   print('ngapain 0')"
   ]
  },
  {
   "cell_type": "code",
   "execution_count": null,
   "metadata": {},
   "outputs": [],
   "source": [
    "Prediction1 = ANN1_load.predict(SC.transform([[ph,\n",
    "                                        cahaya,\n",
    "                                        intensitas,\n",
    "                                        suhu,\n",
    "                                        ppm,\n",
    "                                        air]])) \n",
    "\n",
    "print(Prediction1)\n",
    "if (Prediction1 > 0.5):\n",
    "   print('ngapain NOTIF 1 1')\n",
    "else:\n",
    "   print('ngapain 0')"
   ]
  },
  {
   "cell_type": "code",
   "execution_count": null,
   "metadata": {},
   "outputs": [],
   "source": [
    "Prediction2 = ANN2_load.predict(SC.transform([[ph,\n",
    "                                        cahaya,\n",
    "                                        intensitas,\n",
    "                                        suhu,\n",
    "                                        ppm,\n",
    "                                        air]])) \n",
    "\n",
    "print(Prediction2)\n",
    "if (Prediction2 > 0.5):\n",
    "   print('ngapain NOTIF 2 1')\n",
    "else:\n",
    "   print('ngapain 0')"
   ]
  },
  {
   "cell_type": "code",
   "execution_count": null,
   "metadata": {},
   "outputs": [],
   "source": [
    "Prediction3 = ANN3_load.predict(SC.transform([[ph,\n",
    "                                        cahaya,\n",
    "                                        intensitas,\n",
    "                                        suhu,\n",
    "                                        ppm,\n",
    "                                        air]])) \n",
    "\n",
    "print(Prediction3)\n",
    "if (Prediction3 > 0.5):\n",
    "   print('ngapain NOTIF 3 1')\n",
    "else:\n",
    "   print('ngapain 0')"
   ]
  },
  {
   "cell_type": "code",
   "execution_count": null,
   "metadata": {},
   "outputs": [],
   "source": [
    "Prediction4 = ANN4_load.predict(SC.transform([[ph,\n",
    "                                        cahaya,\n",
    "                                        intensitas,\n",
    "                                        suhu,\n",
    "                                        ppm,\n",
    "                                        air]])) \n",
    "\n",
    "print(Prediction4)\n",
    "if (Prediction4 > 0.5):\n",
    "   print('ngapain NOTIF 4 1')\n",
    "else:\n",
    "   print('ngapain 0')"
   ]
  },
  {
   "cell_type": "code",
   "execution_count": null,
   "metadata": {},
   "outputs": [],
   "source": [
    "A=[Prediction0,Prediction1,Prediction2,Prediction3,Prediction4]\n",
    "B=max(A);\n",
    "C=A.index(B)\n",
    "print(B)\n",
    "print(C)"
   ]
  },
  {
   "cell_type": "code",
   "execution_count": null,
   "metadata": {},
   "outputs": [],
   "source": [
    "print (c,C)"
   ]
  }
 ],
 "metadata": {
  "kernelspec": {
   "display_name": "Python 3",
   "language": "python",
   "name": "python3"
  },
  "language_info": {
   "codemirror_mode": {
    "name": "ipython",
    "version": 3
   },
   "file_extension": ".py",
   "mimetype": "text/x-python",
   "name": "python",
   "nbconvert_exporter": "python",
   "pygments_lexer": "ipython3",
   "version": "3.7.4"
  }
 },
 "nbformat": 4,
 "nbformat_minor": 2
}

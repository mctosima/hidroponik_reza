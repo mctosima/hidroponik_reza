{
 "cells": [
  {
   "cell_type": "code",
   "execution_count": 1,
   "metadata": {},
   "outputs": [
    {
     "data": {
      "text/plain": [
       "'2.1.0'"
      ]
     },
     "execution_count": 1,
     "metadata": {},
     "output_type": "execute_result"
    }
   ],
   "source": [
    "import numpy as np\n",
    "import pandas as pd\n",
    "import tensorflow as tf\n",
    "tf.__version__"
   ]
  },
  {
   "cell_type": "code",
   "execution_count": 2,
   "metadata": {},
   "outputs": [],
   "source": [
    "ph=6.5\n",
    "cahaya=1\n",
    "intensitas=2\n",
    "suhu=27.1\n",
    "ppm=758\n",
    "air= 458"
   ]
  },
  {
   "cell_type": "code",
   "execution_count": 3,
   "metadata": {},
   "outputs": [
    {
     "name": "stderr",
     "output_type": "stream",
     "text": [
      "C:\\Users\\GOCCHAN\\Anaconda3\\lib\\site-packages\\sklearn\\externals\\joblib\\__init__.py:15: DeprecationWarning: sklearn.externals.joblib is deprecated in 0.21 and will be removed in 0.23. Please import this functionality directly from joblib, which can be installed with: pip install joblib. If this warning is raised when loading pickled models, you may need to re-serialize those models with scikit-learn 0.21+.\n",
      "  warnings.warn(msg, category=DeprecationWarning)\n"
     ]
    }
   ],
   "source": [
    "from sklearn.externals.joblib import dump, load\n",
    "\n",
    "sc=load('std_scaler.bin')\n",
    "SC=load('std_scaler2.bin')"
   ]
  },
  {
   "cell_type": "code",
   "execution_count": 4,
   "metadata": {},
   "outputs": [],
   "source": [
    "ann0_load = tf.keras.models.load_model(\"ann0\")\n",
    "ann1_load = tf.keras.models.load_model(\"ann1\")\n",
    "ann2_load = tf.keras.models.load_model(\"ann2\")\n",
    "ann3_load = tf.keras.models.load_model(\"ann3\")"
   ]
  },
  {
   "cell_type": "code",
   "execution_count": 5,
   "metadata": {},
   "outputs": [],
   "source": [
    "ANN0_load = tf.keras.models.load_model(\"ANN-0\")\n",
    "ANN1_load = tf.keras.models.load_model(\"ANN-1\")\n",
    "ANN2_load = tf.keras.models.load_model(\"ANN-2\")\n",
    "ANN3_load = tf.keras.models.load_model(\"ANN-3\")\n",
    "ANN4_load = tf.keras.models.load_model(\"ANN-4\")"
   ]
  },
  {
   "cell_type": "code",
   "execution_count": 6,
   "metadata": {},
   "outputs": [
    {
     "name": "stdout",
     "output_type": "stream",
     "text": [
      "[[0.29339117]]\n",
      "ngapain 0\n"
     ]
    }
   ],
   "source": [
    "prediction0 = ann0_load.predict(sc.transform([[cahaya,\n",
    "                                        intensitas,\n",
    "                                        suhu,\n",
    "                                        ppm]])) \n",
    "\n",
    "print(prediction0)\n",
    "if (prediction0 > 0.5):\n",
    "   print('ga ngapa2in 1')\n",
    "else:\n",
    "   print('ngapain 0')"
   ]
  },
  {
   "cell_type": "code",
   "execution_count": 7,
   "metadata": {},
   "outputs": [
    {
     "name": "stdout",
     "output_type": "stream",
     "text": [
      "[[0.64187175]]\n",
      "ngapain lampu 1\n"
     ]
    }
   ],
   "source": [
    "prediction1 = ann1_load.predict(sc.transform([[cahaya,\n",
    "                                        intensitas,\n",
    "                                        suhu,\n",
    "                                        ppm]])) \n",
    "\n",
    "print(prediction1)\n",
    "if (prediction1 > 0.5):\n",
    "   print('ngapain lampu 1')\n",
    "else:\n",
    "   print('ngapain lain 0')"
   ]
  },
  {
   "cell_type": "code",
   "execution_count": 8,
   "metadata": {},
   "outputs": [
    {
     "name": "stdout",
     "output_type": "stream",
     "text": [
      "[[0.00019277]]\n",
      "ngapain lain 0\n"
     ]
    }
   ],
   "source": [
    "prediction2 = ann2_load.predict(sc.transform([[cahaya,\n",
    "                                        intensitas,\n",
    "                                        suhu,\n",
    "                                        ppm]])) \n",
    "\n",
    "print(prediction2)\n",
    "if (prediction2 > 0.5):\n",
    "   print('ngapain pompa 1')\n",
    "else:\n",
    "   print('ngapain lain 0')"
   ]
  },
  {
   "cell_type": "code",
   "execution_count": 9,
   "metadata": {},
   "outputs": [
    {
     "name": "stdout",
     "output_type": "stream",
     "text": [
      "[[0.00706494]]\n",
      "ngapain lain 0\n"
     ]
    }
   ],
   "source": [
    "prediction3 = ann3_load.predict(sc.transform([[cahaya,\n",
    "                                        intensitas,\n",
    "                                        suhu,\n",
    "                                        ppm]])) \n",
    "\n",
    "print(prediction3)\n",
    "if (prediction3 > 0.5):\n",
    "   print('ngapain pompa dan lampu 1')\n",
    "else:\n",
    "   print('ngapain lain 0')"
   ]
  },
  {
   "cell_type": "code",
   "execution_count": 10,
   "metadata": {},
   "outputs": [
    {
     "name": "stdout",
     "output_type": "stream",
     "text": [
      "[[0.64187175]]\n",
      "1\n"
     ]
    }
   ],
   "source": [
    "a=[prediction0,prediction1,prediction2,prediction3]\n",
    "b=max(a)\n",
    "c=a.index(b)\n",
    "print(b)\n",
    "print(c)"
   ]
  },
  {
   "cell_type": "code",
   "execution_count": 11,
   "metadata": {},
   "outputs": [
    {
     "name": "stdout",
     "output_type": "stream",
     "text": [
      "[[0.9366867]]\n",
      "ga ngapa2in 1\n"
     ]
    }
   ],
   "source": [
    "Prediction0 = ANN0_load.predict(SC.transform([[ph,\n",
    "                                        cahaya,\n",
    "                                        intensitas,\n",
    "                                        suhu,\n",
    "                                        ppm,\n",
    "                                        air]])) \n",
    "\n",
    "print(Prediction0)\n",
    "if (Prediction0 > 0.5):\n",
    "   print('ga ngapa2in 1')\n",
    "else:\n",
    "   print('ngapain 0')"
   ]
  },
  {
   "cell_type": "code",
   "execution_count": 12,
   "metadata": {},
   "outputs": [
    {
     "name": "stdout",
     "output_type": "stream",
     "text": [
      "[[0.00480136]]\n",
      "ngapain 0\n"
     ]
    }
   ],
   "source": [
    "Prediction1 = ANN1_load.predict(SC.transform([[ph,\n",
    "                                        cahaya,\n",
    "                                        intensitas,\n",
    "                                        suhu,\n",
    "                                        ppm,\n",
    "                                        air]])) \n",
    "\n",
    "print(Prediction1)\n",
    "if (Prediction1 > 0.5):\n",
    "   print('ngapain NOTIF 1 1')\n",
    "else:\n",
    "   print('ngapain 0')"
   ]
  },
  {
   "cell_type": "code",
   "execution_count": 13,
   "metadata": {},
   "outputs": [
    {
     "name": "stdout",
     "output_type": "stream",
     "text": [
      "[[5.6674807e-08]]\n",
      "ngapain 0\n"
     ]
    }
   ],
   "source": [
    "Prediction2 = ANN2_load.predict(SC.transform([[ph,\n",
    "                                        cahaya,\n",
    "                                        intensitas,\n",
    "                                        suhu,\n",
    "                                        ppm,\n",
    "                                        air]])) \n",
    "\n",
    "print(Prediction2)\n",
    "if (Prediction2 > 0.5):\n",
    "   print('ngapain NOTIF 2 1')\n",
    "else:\n",
    "   print('ngapain 0')"
   ]
  },
  {
   "cell_type": "code",
   "execution_count": 14,
   "metadata": {},
   "outputs": [
    {
     "name": "stdout",
     "output_type": "stream",
     "text": [
      "[[0.00397522]]\n",
      "ngapain 0\n"
     ]
    }
   ],
   "source": [
    "Prediction3 = ANN3_load.predict(SC.transform([[ph,\n",
    "                                        cahaya,\n",
    "                                        intensitas,\n",
    "                                        suhu,\n",
    "                                        ppm,\n",
    "                                        air]])) \n",
    "\n",
    "print(Prediction3)\n",
    "if (Prediction3 > 0.5):\n",
    "   print('ngapain NOTIF 3 1')\n",
    "else:\n",
    "   print('ngapain 0')"
   ]
  },
  {
   "cell_type": "code",
   "execution_count": 15,
   "metadata": {},
   "outputs": [
    {
     "name": "stdout",
     "output_type": "stream",
     "text": [
      "[[0.01075533]]\n",
      "ngapain 0\n"
     ]
    }
   ],
   "source": [
    "Prediction4 = ANN4_load.predict(SC.transform([[ph,\n",
    "                                        cahaya,\n",
    "                                        intensitas,\n",
    "                                        suhu,\n",
    "                                        ppm,\n",
    "                                        air]])) \n",
    "\n",
    "print(Prediction4)\n",
    "if (Prediction4 > 0.5):\n",
    "   print('ngapain NOTIF 4 1')\n",
    "else:\n",
    "   print('ngapain 0')"
   ]
  },
  {
   "cell_type": "code",
   "execution_count": 16,
   "metadata": {},
   "outputs": [
    {
     "name": "stdout",
     "output_type": "stream",
     "text": [
      "[[0.9366867]]\n",
      "0\n"
     ]
    }
   ],
   "source": [
    "A=[Prediction0,Prediction1,Prediction2,Prediction3,Prediction4]\n",
    "B=max(A);\n",
    "C=A.index(B)\n",
    "print(B)\n",
    "print(C)"
   ]
  },
  {
   "cell_type": "code",
   "execution_count": 17,
   "metadata": {},
   "outputs": [
    {
     "name": "stdout",
     "output_type": "stream",
     "text": [
      "1 0\n"
     ]
    }
   ],
   "source": [
    "print (c,C)"
   ]
  }
 ],
 "metadata": {
  "kernelspec": {
   "display_name": "Python 3",
   "language": "python",
   "name": "python3"
  },
  "language_info": {
   "codemirror_mode": {
    "name": "ipython",
    "version": 3
   },
   "file_extension": ".py",
   "mimetype": "text/x-python",
   "name": "python",
   "nbconvert_exporter": "python",
   "pygments_lexer": "ipython3",
   "version": "3.7.4"
  }
 },
 "nbformat": 4,
 "nbformat_minor": 2
}
